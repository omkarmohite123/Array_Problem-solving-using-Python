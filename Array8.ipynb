{
  "nbformat": 4,
  "nbformat_minor": 0,
  "metadata": {
    "colab": {
      "provenance": [],
      "authorship_tag": "ABX9TyOl05BFTdAM/7L5fOIOKDmW",
      "include_colab_link": true
    },
    "kernelspec": {
      "name": "python3",
      "display_name": "Python 3"
    },
    "language_info": {
      "name": "python"
    }
  },
  "cells": [
    {
      "cell_type": "markdown",
      "metadata": {
        "id": "view-in-github",
        "colab_type": "text"
      },
      "source": [
        "<a href=\"https://colab.research.google.com/github/omkarmohite123/Array_Problem-solving-using-Python/blob/main/Array8.ipynb\" target=\"_parent\"><img src=\"https://colab.research.google.com/assets/colab-badge.svg\" alt=\"Open In Colab\"/></a>"
      ]
    },
    {
      "cell_type": "code",
      "source": [
        "\"\"\"\n",
        "Given a number N and an array of size N(with both positive and negative integers), print the product of the elements in the maximum product subarray.\n",
        "Input Size : 1 <= N <= 100000\n",
        "Sample Testcases :\n",
        "INPUT\n",
        "5\n",
        "1 2 3 4 5\n",
        "OUTPUT\n",
        "120\n",
        "\"\"\""
      ],
      "metadata": {
        "id": "W60Q0SZ60-3a"
      },
      "execution_count": null,
      "outputs": []
    },
    {
      "cell_type": "code",
      "source": [
        "\n",
        "def maxSubarrayProduct(arr, n):\n",
        "\tresult = arr[0]\n",
        "\tfor i in range(n):\n",
        "\t\tmul = arr[i]\n",
        "\t\tfor j in range(i + 1, n):\n",
        "\t\t\tresult = max(result, mul)\n",
        "\t\t\tmul *= arr[j]\n",
        "\t\t\n",
        "\t\tresult = max(result, mul)\n",
        "\t\n",
        "\treturn result\n",
        "n=int(input())\n",
        "arr =list(map(int,input().split()))\n",
        "print(maxSubarrayProduct(arr, n))\n"
      ],
      "metadata": {
        "colab": {
          "base_uri": "https://localhost:8080/"
        },
        "id": "n_gIs0xG1GtT",
        "outputId": "7475403f-aa84-460f-b59b-c5456050ba8f"
      },
      "execution_count": 56,
      "outputs": [
        {
          "output_type": "stream",
          "name": "stdout",
          "text": [
            "5\n",
            "1 2 3 4 5\n",
            "120\n"
          ]
        }
      ]
    }
  ]
}