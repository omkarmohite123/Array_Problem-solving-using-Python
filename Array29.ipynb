{
  "nbformat": 4,
  "nbformat_minor": 0,
  "metadata": {
    "colab": {
      "provenance": [],
      "authorship_tag": "ABX9TyPdhy8egnd/i34eSjCyUkrY",
      "include_colab_link": true
    },
    "kernelspec": {
      "name": "python3",
      "display_name": "Python 3"
    },
    "language_info": {
      "name": "python"
    }
  },
  "cells": [
    {
      "cell_type": "markdown",
      "metadata": {
        "id": "view-in-github",
        "colab_type": "text"
      },
      "source": [
        "<a href=\"https://colab.research.google.com/github/omkarmohite123/Array_Problem-solving-using-Python/blob/main/Array29.ipynb\" target=\"_parent\"><img src=\"https://colab.research.google.com/assets/colab-badge.svg\" alt=\"Open In Colab\"/></a>"
      ]
    },
    {
      "cell_type": "code",
      "source": [
        "\"\"\"\n",
        "Arvind Kejriwal wants to implement a revised version of the ODD/EVEN scheme for vehicles in order to reduce pollution in Delhi. The vehicle numbers are stored in an array and instead of allowing only either of odd/even numbered vehicles on the road, he decides to allow the vehicles at odd/even INDICES of the array on a particular day. The day being Monday, only vehicles at even indices are allowed on the road. He wants to analyse the number of vehicles that are allowed on the road on that particular day and hence decides to order the data in ascending order. Sort the elements at the even indices of the array in ascending order and help make the IITan’s idea a success! Kejriwal would be happy if you could it in O(Nlog N) complexity, where N is the number of elements that are to be sorted.\n",
        " \n",
        "\n",
        "Input Description:\n",
        "Size of the array followed by the elements of the array\n",
        "\n",
        "Output Description:\n",
        "Array with elements at the even indexes sorted in ascending order.\n",
        "\n",
        "Sample Input :\n",
        "6\n",
        "12 44 23 16 1 62\n",
        "Sample Output :\n",
        "1 44 12 16 23 62\n",
        "\n",
        "\"\"\""
      ],
      "metadata": {
        "id": "Epsi1qdpnaSI"
      },
      "execution_count": null,
      "outputs": []
    },
    {
      "cell_type": "code",
      "source": [
        "a=int(input())\n",
        "b=list(map(int,input().split()))\n",
        "e=[]\n",
        "o=[]\n",
        "for i in range(len(b)):\n",
        "  if i%2==0:\n",
        "    e.append(b[i])\n",
        "  else:\n",
        "    o.append(b[i])\n",
        "  \n",
        "e=sorted(e)\n",
        "c=[]\n",
        "j=0\n",
        "for i in range(len(b)):\n",
        "  if i%2==0:\n",
        "    b[i]=e[j]\n",
        "    j+=1\n",
        "print(*b)"
      ],
      "metadata": {
        "colab": {
          "base_uri": "https://localhost:8080/"
        },
        "id": "-MI12_K6naVi",
        "outputId": "cee783b9-6ef6-4c96-d5a0-6a501581b867"
      },
      "execution_count": 12,
      "outputs": [
        {
          "output_type": "stream",
          "name": "stdout",
          "text": [
            "6\n",
            "12 44 23 16 1 62\n",
            "1 44 12 16 23 62\n"
          ]
        }
      ]
    }
  ]
}