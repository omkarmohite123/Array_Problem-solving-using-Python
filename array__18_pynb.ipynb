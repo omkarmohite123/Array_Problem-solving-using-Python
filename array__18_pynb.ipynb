{
  "nbformat": 4,
  "nbformat_minor": 0,
  "metadata": {
    "colab": {
      "provenance": [],
      "authorship_tag": "ABX9TyP7qhY0iZFJRHj2/mo7O9m9",
      "include_colab_link": true
    },
    "kernelspec": {
      "name": "python3",
      "display_name": "Python 3"
    },
    "language_info": {
      "name": "python"
    }
  },
  "cells": [
    {
      "cell_type": "markdown",
      "metadata": {
        "id": "view-in-github",
        "colab_type": "text"
      },
      "source": [
        "<a href=\"https://colab.research.google.com/github/omkarmohite123/Array_Problem-solving-using-Python/blob/main/array__18_pynb.ipynb\" target=\"_parent\"><img src=\"https://colab.research.google.com/assets/colab-badge.svg\" alt=\"Open In Colab\"/></a>"
      ]
    },
    {
      "cell_type": "code",
      "source": [
        "\"\"\"\n",
        "Given a number N and a number K, check if it has all digits from 0 to k in it.\n",
        "Input Size : N <= 100000\n",
        "Sample Testcase :\n",
        "INPUT\n",
        "1234034 4\n",
        "OUTPUT\n",
        "yes\n",
        "\n",
        "\"\"\""
      ],
      "metadata": {
        "id": "Im4kLWV5zix6"
      },
      "execution_count": null,
      "outputs": []
    },
    {
      "cell_type": "code",
      "source": [
        "a,b=list(map(int,input().split()))\n",
        "c=[]\n",
        "m=[]\n",
        "for i in range(0,b):\n",
        "  if str(i) in str(a):\n",
        "    c.append(i)\n",
        "  else:\n",
        "    m.append(\"=\")\n",
        "if m==[]:\n",
        "  print(\"yes\")\n",
        "else:\n",
        "  print(\"no\")\n"
      ],
      "metadata": {
        "colab": {
          "base_uri": "https://localhost:8080/"
        },
        "id": "JD1qmkcuzi1S",
        "outputId": "61af1a47-a871-4eb5-bd1b-c2b42f241a79"
      },
      "execution_count": null,
      "outputs": [
        {
          "output_type": "stream",
          "name": "stdout",
          "text": [
            "1234034 4\n",
            "yes\n"
          ]
        }
      ]
    }
  ]
}