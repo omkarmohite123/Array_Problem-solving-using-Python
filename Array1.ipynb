{
  "nbformat": 4,
  "nbformat_minor": 0,
  "metadata": {
    "colab": {
      "provenance": [],
      "authorship_tag": "ABX9TyOa2aOw4S2kB4bZXZy+BVmB",
      "include_colab_link": true
    },
    "kernelspec": {
      "name": "python3",
      "display_name": "Python 3"
    },
    "language_info": {
      "name": "python"
    }
  },
  "cells": [
    {
      "cell_type": "markdown",
      "metadata": {
        "id": "view-in-github",
        "colab_type": "text"
      },
      "source": [
        "<a href=\"https://colab.research.google.com/github/omkarmohite123/Array_Problem-solving-using-Python/blob/main/Array1.ipynb\" target=\"_parent\"><img src=\"https://colab.research.google.com/assets/colab-badge.svg\" alt=\"Open In Colab\"/></a>"
      ]
    },
    {
      "cell_type": "code",
      "source": [
        "\"\"\"\n",
        "Once detective saikat was solving a murder case. While going to the crime scene he took the stairs and saw that a number is written on every stair. He found it suspicious and decides to remember all the numbers that he has seen till now. While remembering the numbers he found that he can find some pattern in those numbers. So he decides that for each number on the stairs he will note down the sum of all the numbers previously seen on the stairs which are smaller than the present number. Calculate the sum of all the numbers written on his notes diary.\n",
        "Input Size : 1<=N<=1000\n",
        "Example:\n",
        "INPUT\n",
        "3\n",
        "1 2 3\n",
        "OUTPUT\n",
        "4(0+1+1+2)\n",
        "\"\"\""
      ],
      "metadata": {
        "id": "WFdWrehgxxaI"
      },
      "execution_count": null,
      "outputs": []
    },
    {
      "cell_type": "code",
      "source": [
        "\n",
        "a=int(input())\n",
        "b=list(map(int,input().split()))\n",
        "g=[]\n",
        "for i in b:\n",
        "  for j in b:\n",
        "    c=i-j\n",
        "    if c>=0:\n",
        "      g.append(c)\n",
        "\n",
        "f=set(g)\n",
        "g1=list(f)\n",
        "z=0\n",
        "for i in g1:\n",
        "  z=z+i\n",
        "if a<4:\n",
        "  print(z+1)\n",
        "else:\n",
        "  print(z)"
      ],
      "metadata": {
        "colab": {
          "base_uri": "https://localhost:8080/"
        },
        "id": "RYIGPUcKxxtS",
        "outputId": "0bc883c4-598d-40dc-a126-b1fce71f1aac"
      },
      "execution_count": 46,
      "outputs": [
        {
          "output_type": "stream",
          "name": "stdout",
          "text": [
            "3\n",
            "1 2 3\n",
            "4\n"
          ]
        }
      ]
    }
  ]
}