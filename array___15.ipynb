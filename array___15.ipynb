{
  "nbformat": 4,
  "nbformat_minor": 0,
  "metadata": {
    "colab": {
      "provenance": [],
      "authorship_tag": "ABX9TyPFQJZQYHBixv2C/8HHSYEd",
      "include_colab_link": true
    },
    "kernelspec": {
      "name": "python3",
      "display_name": "Python 3"
    },
    "language_info": {
      "name": "python"
    }
  },
  "cells": [
    {
      "cell_type": "markdown",
      "metadata": {
        "id": "view-in-github",
        "colab_type": "text"
      },
      "source": [
        "<a href=\"https://colab.research.google.com/github/omkarmohite123/Array_Problem-solving-using-Python/blob/main/array___15.ipynb\" target=\"_parent\"><img src=\"https://colab.research.google.com/assets/colab-badge.svg\" alt=\"Open In Colab\"/></a>"
      ]
    },
    {
      "cell_type": "code",
      "source": [
        "\"\"\"\n",
        "Given a number N, print the distinct pairs formed by multiplying two prime numbers (i.e)prime x prime should yield the N.Also print the numbers in descending order.If no such pairs can be formed print '-1'.\n",
        "Input Size : 1 <= N <= 100000\n",
        "Sample Testcase :\n",
        "INPUT\n",
        "65\n",
        "OUTPUT\n",
        "13 5\n",
        "\n",
        "\n",
        "\"\"\""
      ],
      "metadata": {
        "id": "NGlz-gJ7y5c1"
      },
      "execution_count": null,
      "outputs": []
    },
    {
      "cell_type": "code",
      "source": [
        "a=int(input())\n",
        "m=[]\n",
        "for i in range(1,100):\n",
        "  k=0\n",
        "  for j in range(2,(i//2)+1):\n",
        "    if i%j==0:\n",
        "      k+=1\n",
        "  if (i!=1) and (k==0):\n",
        "      m.append(i)\n",
        "\n",
        "n=[]\n",
        "for i in m:\n",
        "  for j in m:\n",
        "    if i*j==a:\n",
        "     n.append([i,j])\n",
        "k=[]\n",
        "for i in range(len(n)):\n",
        "  for j in range(len(n[i])):\n",
        "      k.append(n[i][j])\n",
        "z=set(k)\n",
        "f=sorted(z,reverse=True)\n",
        "if n==[]:\n",
        "  print(\"-1\")\n",
        "else:\n",
        "  print(*f)\n"
      ],
      "metadata": {
        "colab": {
          "base_uri": "https://localhost:8080/"
        },
        "id": "ndM0bLpgy5gP",
        "outputId": "a934ddac-280a-436a-f4ed-ddd731dded02"
      },
      "execution_count": 1,
      "outputs": [
        {
          "output_type": "stream",
          "name": "stdout",
          "text": [
            "65\n",
            "13 5\n"
          ]
        }
      ]
    }
  ]
}