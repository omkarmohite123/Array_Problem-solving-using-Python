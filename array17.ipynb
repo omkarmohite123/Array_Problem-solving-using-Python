{
  "nbformat": 4,
  "nbformat_minor": 0,
  "metadata": {
    "colab": {
      "provenance": [],
      "authorship_tag": "ABX9TyOu9lEDKHp57YmtxFA5Tqng",
      "include_colab_link": true
    },
    "kernelspec": {
      "name": "python3",
      "display_name": "Python 3"
    },
    "language_info": {
      "name": "python"
    }
  },
  "cells": [
    {
      "cell_type": "markdown",
      "metadata": {
        "id": "view-in-github",
        "colab_type": "text"
      },
      "source": [
        "<a href=\"https://colab.research.google.com/github/omkarmohite123/Array_Problem-solving-using-Python/blob/main/array17.ipynb\" target=\"_parent\"><img src=\"https://colab.research.google.com/assets/colab-badge.svg\" alt=\"Open In Colab\"/></a>"
      ]
    },
    {
      "cell_type": "code",
      "source": [
        "\"\"\"\n",
        "Shreya is a brilliant girl. She likes to memorize the numbers. These numbers will be shown to her. As an examiner develop an algorithm to test her memory.\n",
        "\n",
        " \n",
        "\n",
        "CONSTRAINTS\n",
        "\n",
        "1<=Y,N,T<=1000\n",
        "\n",
        "Input Description:\n",
        "First line contains no. of test cases(Y). Next line contains a number N. Next line contains n space separated numbers Next line contains a number T denoting the number of questions asked from you regarding the given array. Next line contains T space separated numbers.\n",
        "\n",
        "Output Description:\n",
        "Print the occurrence of each number if present else “NOT PRESENT”\n",
        "\n",
        "Sample Input :\n",
        "10\n",
        "1 1 1 2 2 2 3 8 9 7\n",
        "5\n",
        "1 2 3 0 5\n",
        "Sample Output :\n",
        "3 3 1 Not Present Not Present\n",
        "\"\"\""
      ],
      "metadata": {
        "id": "pg9Av4V_hc3l"
      },
      "execution_count": null,
      "outputs": []
    },
    {
      "cell_type": "code",
      "source": [
        "a=int(input())\n",
        "b=list(map(int,input().split()))\n",
        "c=int(input())\n",
        "d=list(map(int,input().split()))\n",
        "f={}\n",
        "for i in b:\n",
        "    if i in f:\n",
        "      f[i]+=1\n",
        "    else:\n",
        "      f[i]=1\n",
        "k=[]\n",
        "for i in d:\n",
        "   if i in f.keys():\n",
        "      k.append(f[i])\n",
        "   else:\n",
        "      k.append(\"Not Present\")\n",
        "print(*k)"
      ],
      "metadata": {
        "colab": {
          "base_uri": "https://localhost:8080/"
        },
        "id": "qWGGN73Khc7t",
        "outputId": "50eb37a2-de75-4001-b612-f3dd94d233d2"
      },
      "execution_count": 3,
      "outputs": [
        {
          "output_type": "stream",
          "name": "stdout",
          "text": [
            "10\n",
            "1 1 1 2 2 2 3 8 9 7\n",
            "5\n",
            "1 2 3 0 5\n",
            "3 3 1 Not Present Not Present\n"
          ]
        }
      ]
    }
  ]
}