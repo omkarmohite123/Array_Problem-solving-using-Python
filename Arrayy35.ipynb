{
  "nbformat": 4,
  "nbformat_minor": 0,
  "metadata": {
    "colab": {
      "provenance": [],
      "authorship_tag": "ABX9TyOhEBWFRiq/4vnUuCWjYcas",
      "include_colab_link": true
    },
    "kernelspec": {
      "name": "python3",
      "display_name": "Python 3"
    },
    "language_info": {
      "name": "python"
    }
  },
  "cells": [
    {
      "cell_type": "markdown",
      "metadata": {
        "id": "view-in-github",
        "colab_type": "text"
      },
      "source": [
        "<a href=\"https://colab.research.google.com/github/omkarmohite123/Array_Problem-solving-using-Python/blob/main/Arrayy35.ipynb\" target=\"_parent\"><img src=\"https://colab.research.google.com/assets/colab-badge.svg\" alt=\"Open In Colab\"/></a>"
      ]
    },
    {
      "cell_type": "code",
      "source": [
        "\"\"\"\n",
        "Given 2 strings S,T of length N,M print the longest common subarray.\n",
        "Input Size : 1 <= N, M <= 1000\n",
        "Sample Testcase :\n",
        "INPUT\n",
        "TEACHER\n",
        "CHEATER\n",
        "OUTPUT\n",
        "CHE\n",
        "\n",
        "\"\"\""
      ],
      "metadata": {
        "colab": {
          "base_uri": "https://localhost:8080/",
          "height": 35
        },
        "id": "dFqTliqtwzuD",
        "outputId": "57a1b8fa-fb3e-43ba-f32e-a6581ffd2a4a"
      },
      "execution_count": null,
      "outputs": [
        {
          "output_type": "execute_result",
          "data": {
            "text/plain": [
              "'\\nGiven 2 strings S,T of length N,M print the longest common subarray.\\nInput Size : 1 <= N, M <= 1000\\nSample Testcase :\\nINPUT\\nTEACHER\\nCHEATER\\nOUTPUT\\nCHE\\n\\n'"
            ],
            "application/vnd.google.colaboratory.intrinsic+json": {
              "type": "string"
            }
          },
          "metadata": {},
          "execution_count": 2
        }
      ]
    },
    {
      "cell_type": "code",
      "source": [
        "# The longest common subsequence in Python\n",
        "\n",
        "\n",
        "# Function to find lcs_algo\n",
        "def lcs_algo(S1, S2, m, n):\n",
        "    L = [[0 for x in range(n+1)] for x in range(m+1)]\n",
        "\n",
        "    # Building the mtrix in bottom-up way\n",
        "    for i in range(m+1):\n",
        "        for j in range(n+1):\n",
        "            if i == 0 or j == 0:\n",
        "                L[i][j] = 0\n",
        "            elif S1[i-1] == S2[j-1]:\n",
        "                L[i][j] = L[i-1][j-1] + 1\n",
        "            else:\n",
        "                L[i][j] = max(L[i-1][j], L[i][j-1])\n",
        "\n",
        "    index = L[m][n]\n",
        "\n",
        "    lcs_algo = [\"\"] * (index+1)\n",
        "    lcs_algo[index] = \"\"\n",
        "\n",
        "    i = m\n",
        "    j = n\n",
        "    while i > 0 and j > 0:\n",
        "\n",
        "        if S1[i-1] == S2[j-1]:\n",
        "            lcs_algo[index-1] = S1[i-1]\n",
        "            i -= 1\n",
        "            j -= 1\n",
        "            index -= 1\n",
        "\n",
        "        elif L[i-1][j] > L[i][j-1]:\n",
        "            i -= 1\n",
        "        else:\n",
        "            j -= 1\n",
        "            \n",
        "    # Printing the sub sequences\n",
        "    print(\"\".join(lcs_algo))\n",
        "\n",
        "\n",
        "\n",
        "S1 = input()\n",
        "S2 = input()\n",
        "m = len(S1)\n",
        "n = len(S2)\n",
        "lcs_algo(S1, S2, m, n)"
      ],
      "metadata": {
        "colab": {
          "base_uri": "https://localhost:8080/"
        },
        "id": "BP3rqoOnwz3v",
        "outputId": "0f9ddcde-d325-48a0-9ac2-d9a5eb434932"
      },
      "execution_count": null,
      "outputs": [
        {
          "output_type": "stream",
          "name": "stdout",
          "text": [
            "TEACHER\n",
            "CHEATER\n",
            "CHER\n"
          ]
        }
      ]
    },
    {
      "cell_type": "code",
      "source": [],
      "metadata": {
        "id": "NLvGSObCz7mG"
      },
      "execution_count": null,
      "outputs": []
    }
  ]
}