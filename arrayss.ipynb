{
  "nbformat": 4,
  "nbformat_minor": 0,
  "metadata": {
    "colab": {
      "provenance": [],
      "authorship_tag": "ABX9TyNp18P/Sv4EvzTl0eh3w2UQ",
      "include_colab_link": true
    },
    "kernelspec": {
      "name": "python3",
      "display_name": "Python 3"
    },
    "language_info": {
      "name": "python"
    }
  },
  "cells": [
    {
      "cell_type": "markdown",
      "metadata": {
        "id": "view-in-github",
        "colab_type": "text"
      },
      "source": [
        "<a href=\"https://colab.research.google.com/github/omkarmohite123/Array_Problem-solving-using-Python/blob/main/arrayss.ipynb\" target=\"_parent\"><img src=\"https://colab.research.google.com/assets/colab-badge.svg\" alt=\"Open In Colab\"/></a>"
      ]
    },
    {
      "cell_type": "code",
      "source": [
        "\"\"\"\n",
        "Given a number N and an array of N elements, find the number of triplets ai < aj < ak (i < j < k) in the array.Don't change the given sequence and if it is not possible to form triplet print '-1'.\n",
        "Input Size : 3<=N<=1000\n",
        "Example:\n",
        "INPUT:\n",
        "4\n",
        "1 2 3 4\n",
        "OUTPUT:\n",
        "4\n",
        "\n",
        "\"\"\""
      ],
      "metadata": {
        "id": "1jjnSqS_-9Jy"
      },
      "execution_count": null,
      "outputs": []
    },
    {
      "cell_type": "code",
      "source": [
        "m=int(input())\n",
        "a=list(map(int,input().split()))\n",
        "c=0\n",
        "for i in range(len(a)):\n",
        "  for j in range(len(a)):\n",
        "     for k in range(len(a)):\n",
        "        if a[i]<a[j]<a[k] and i<j<k:\n",
        "            c+=1\n",
        "if c!=0:           \n",
        "  print(c)\n",
        "else:\n",
        "  print(\"-1\")\n"
      ],
      "metadata": {
        "colab": {
          "base_uri": "https://localhost:8080/"
        },
        "id": "Pepkgy_D-9L3",
        "outputId": "d4fb63b3-f456-465d-884f-98456d84ba82"
      },
      "execution_count": 6,
      "outputs": [
        {
          "output_type": "stream",
          "name": "stdout",
          "text": [
            "4\n",
            "1 2 3 4\n",
            "4\n"
          ]
        }
      ]
    }
  ]
}