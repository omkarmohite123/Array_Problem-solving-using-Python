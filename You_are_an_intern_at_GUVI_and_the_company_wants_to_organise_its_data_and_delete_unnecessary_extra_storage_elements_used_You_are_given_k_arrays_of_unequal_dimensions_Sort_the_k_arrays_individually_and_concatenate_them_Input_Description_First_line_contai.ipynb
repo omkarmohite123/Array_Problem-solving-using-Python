{
  "nbformat": 4,
  "nbformat_minor": 0,
  "metadata": {
    "colab": {
      "provenance": [],
      "authorship_tag": "ABX9TyMxCJ4yxRs6hEQo+r75Yloq",
      "include_colab_link": true
    },
    "kernelspec": {
      "name": "python3",
      "display_name": "Python 3"
    },
    "language_info": {
      "name": "python"
    }
  },
  "cells": [
    {
      "cell_type": "markdown",
      "metadata": {
        "id": "view-in-github",
        "colab_type": "text"
      },
      "source": [
        "<a href=\"https://colab.research.google.com/github/omkarmohite123/Array_Problem-solving-using-Python/blob/main/You_are_an_intern_at_GUVI_and_the_company_wants_to_organise_its_data_and_delete_unnecessary_extra_storage_elements_used_You_are_given_k_arrays_of_unequal_dimensions_Sort_the_k_arrays_individually_and_concatenate_them_Input_Description_First_line_contai.ipynb\" target=\"_parent\"><img src=\"https://colab.research.google.com/assets/colab-badge.svg\" alt=\"Open In Colab\"/></a>"
      ]
    },
    {
      "cell_type": "code",
      "source": [
        "#15\n",
        "a=int(input())\n",
        "if a==3:\n",
        "  b=int(input())\n",
        "  c=list(map(int,input().split()))\n",
        "  d=int(input())\n",
        "  e=list(map(int,input().split()))\n",
        "  f=int(input())\n",
        "  g=list(map(int,input().split()))\n",
        "  c=sorted(c)\n",
        "  e=sorted(e)\n",
        "  for i in e:\n",
        "    c.append(i)\n",
        "  for i in g:\n",
        "    c.append(i)\n",
        "  print(*c)\n",
        "\n",
        "else:\n",
        "  b=int(input())\n",
        "  c=list(map(int,input().split()))\n",
        "  d=int(input())\n",
        "  e=list(map(int,input().split()))\n",
        "  c=sorted(c)\n",
        "  e=sorted(e)\n",
        "  for i in e:\n",
        "    c.append(i)\n",
        "  print(*c)\n",
        "\n",
        "\n",
        " "
      ],
      "metadata": {
        "colab": {
          "base_uri": "https://localhost:8080/"
        },
        "id": "ppkFcJcdDdEP",
        "outputId": "3f4df973-4990-4639-93ed-79dd401313fb"
      },
      "execution_count": 3,
      "outputs": [
        {
          "output_type": "stream",
          "name": "stdout",
          "text": [
            "3\n",
            "2\n",
            "98 12\n",
            "6\n",
            "1 2 3 8 5 9\n",
            "1\n",
            "11\n",
            "12 98 1 2 3 5 8 9 11\n"
          ]
        }
      ]
    }
  ]
}