{
  "nbformat": 4,
  "nbformat_minor": 0,
  "metadata": {
    "colab": {
      "provenance": [],
      "authorship_tag": "ABX9TyMyvIOSwyEtmSMEqoLMaLfp",
      "include_colab_link": true
    },
    "kernelspec": {
      "name": "python3",
      "display_name": "Python 3"
    },
    "language_info": {
      "name": "python"
    }
  },
  "cells": [
    {
      "cell_type": "markdown",
      "metadata": {
        "id": "view-in-github",
        "colab_type": "text"
      },
      "source": [
        "<a href=\"https://colab.research.google.com/github/omkarmohite123/Array_Problem-solving-using-Python/blob/main/arrays1.ipynb\" target=\"_parent\"><img src=\"https://colab.research.google.com/assets/colab-badge.svg\" alt=\"Open In Colab\"/></a>"
      ]
    },
    {
      "cell_type": "code",
      "source": [
        "\"\"\"\n",
        "There are N children standing in a line. Each child is assigned a rating value. You are giving candies to these children subjected to the following requirements:\n",
        "1. Each child must have at least one candy.\n",
        "2. Children with a higher rating get more candies than their neighbors.\n",
        "What is the minimum candies you must give?\n",
        "Input Size : N<=100000\n",
        "Example:\n",
        "INPUT\n",
        "5\n",
        "1 2 4 1 2\n",
        "OUTPUT\n",
        "9\n",
        "\"\"\""
      ],
      "metadata": {
        "id": "BYlk2CH2JTk3"
      },
      "execution_count": null,
      "outputs": []
    },
    {
      "cell_type": "code",
      "source": [
        "def countCandies(arr, n):\n",
        "   sum=0\n",
        "   ans = [1] * n\n",
        "   if (n == 1):\n",
        "\t\t  return 1\n",
        "\n",
        "   for i in range(n - 1):\n",
        "      if arr[i+1]>arr[i]:\n",
        "        \tans[i + 1] = ans[i] + 1\n",
        "\n",
        "   for i in range(n - 2, -1, -1):\n",
        "     if (arr[i] > arr[i + 1] and ans[i] <= ans[i + 1]):\n",
        "       ans[i] = ans[i + 1] + 1\n",
        "     sum += ans[i]\n",
        "   sum += ans[n - 1]\n",
        "   return sum\n",
        "\n",
        "m=int(input())\n",
        "arr=list(map(int,input().split()))\n",
        "n=len(arr)\n",
        "print(countCandies(arr, n))\n",
        "\n",
        "\n",
        "\n",
        "\n"
      ],
      "metadata": {
        "colab": {
          "base_uri": "https://localhost:8080/"
        },
        "id": "M3mA_4ULJZy2",
        "outputId": "352ddd26-78fb-4878-e013-03467fe0d2cf"
      },
      "execution_count": null,
      "outputs": [
        {
          "output_type": "stream",
          "name": "stdout",
          "text": [
            "5\n",
            "1 2 4 1 2\n",
            "9\n"
          ]
        }
      ]
    },
    {
      "cell_type": "code",
      "source": [
        "\"\"\"\n",
        "Find the count k by which array has been rotated in the rotated sorted array. Given a number N followed 2 arrays A and B of length N. Find the amount K by which the array has been rotated.\n",
        "Input Size : N <= 100000\n",
        "Sample Testcase :\n",
        "INPUT\n",
        "4\n",
        "4 3 2 5\n",
        "3 2 5 4\n",
        "OUTPUT\n",
        "1\n",
        "\"\"\""
      ],
      "metadata": {
        "id": "q2NZCpkJfMnK"
      },
      "execution_count": null,
      "outputs": []
    },
    {
      "cell_type": "code",
      "source": [
        "a=int(input())\n",
        "b=list(map(int,input().split()))\n",
        "c=list(map(int,input().split()))\n"
      ],
      "metadata": {
        "id": "DsZ5eCf1g8qH"
      },
      "execution_count": null,
      "outputs": []
    },
    {
      "cell_type": "code",
      "source": [],
      "metadata": {
        "id": "hFxWuvzYfMxX"
      },
      "execution_count": null,
      "outputs": []
    },
    {
      "cell_type": "code",
      "source": [],
      "metadata": {
        "id": "1SXzjtz_eFxZ"
      },
      "execution_count": null,
      "outputs": []
    },
    {
      "cell_type": "code",
      "source": [],
      "metadata": {
        "id": "QwEU0BEWeF00"
      },
      "execution_count": null,
      "outputs": []
    },
    {
      "cell_type": "code",
      "source": [],
      "metadata": {
        "id": "48rp5cwLJToU"
      },
      "execution_count": null,
      "outputs": []
    }
  ]
}