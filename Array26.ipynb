{
  "nbformat": 4,
  "nbformat_minor": 0,
  "metadata": {
    "colab": {
      "provenance": [],
      "authorship_tag": "ABX9TyPH0kfjdf4LWGq8QVJetPRU",
      "include_colab_link": true
    },
    "kernelspec": {
      "name": "python3",
      "display_name": "Python 3"
    },
    "language_info": {
      "name": "python"
    }
  },
  "cells": [
    {
      "cell_type": "markdown",
      "metadata": {
        "id": "view-in-github",
        "colab_type": "text"
      },
      "source": [
        "<a href=\"https://colab.research.google.com/github/omkarmohite123/Array_Problem-solving-using-Python/blob/main/Array26.ipynb\" target=\"_parent\"><img src=\"https://colab.research.google.com/assets/colab-badge.svg\" alt=\"Open In Colab\"/></a>"
      ]
    },
    {
      "cell_type": "code",
      "execution_count": 1,
      "metadata": {
        "colab": {
          "base_uri": "https://localhost:8080/"
        },
        "id": "_lXJixqHJ0ag",
        "outputId": "6002723e-c33e-4cca-ac5c-d1996756d3e9"
      },
      "outputs": [
        {
          "output_type": "stream",
          "name": "stdout",
          "text": [
            "codekata code\n",
            "code\n"
          ]
        }
      ],
      "source": [
        "\n",
        "def LCSubStr(X, Y):\n",
        "\n",
        "\t\n",
        "\tm = len(X)\n",
        "\tn = len(Y)\n",
        "\n",
        "\tresult = 0\n",
        "\n",
        "\tend = 0\n",
        "\n",
        "\t\n",
        "\tlength = [[0 for j in range(m)]\n",
        "\t\t\t\tfor i in range(2)]\n",
        "\n",
        "\tcurrRow = 0\n",
        "\tfor i in range(0, m + 1):\n",
        "\t\tfor j in range(0, n + 1):\n",
        "\t\t\tif (i == 0 or j == 0):\n",
        "\t\t\t\tlength[currRow][j] = 0\n",
        "\t\t\t\n",
        "\t\t\telif (X[i - 1] == Y[j - 1]):\n",
        "\t\t\t\tlength[currRow][j] = length[1 - currRow][j - 1] + 1\n",
        "\t\t\t\t\n",
        "\t\t\t\tif (length[currRow][j] > result):\n",
        "\t\t\t\t\tresult = length[currRow][j]\n",
        "\t\t\t\t\tend = i - 1\n",
        "\t\t\telse:\n",
        "\t\t\t\tlength[currRow][j] = 0\n",
        "\n",
        "\t\tcurrRow = 1 - currRow\n",
        "\tif (result == 0):\n",
        "\t\treturn \"-1\"\n",
        "\treturn X[end - result + 1 : end + 1]\n",
        "\t\n",
        "\n",
        "if __name__==\"__main__\":\n",
        "\t\n",
        "\tX,Y = list(map(str,input().split()))\n",
        "\t\n",
        "\t# Function call\n",
        "\tprint(LCSubStr(X, Y))\n",
        "\n"
      ]
    }
  ]
}