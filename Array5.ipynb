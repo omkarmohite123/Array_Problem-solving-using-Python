{
  "nbformat": 4,
  "nbformat_minor": 0,
  "metadata": {
    "colab": {
      "provenance": [],
      "authorship_tag": "ABX9TyNTDf9wok78zctCBPoLUZ+w",
      "include_colab_link": true
    },
    "kernelspec": {
      "name": "python3",
      "display_name": "Python 3"
    },
    "language_info": {
      "name": "python"
    }
  },
  "cells": [
    {
      "cell_type": "markdown",
      "metadata": {
        "id": "view-in-github",
        "colab_type": "text"
      },
      "source": [
        "<a href=\"https://colab.research.google.com/github/omkarmohite123/Array_Problem-solving-using-Python/blob/main/Array5.ipynb\" target=\"_parent\"><img src=\"https://colab.research.google.com/assets/colab-badge.svg\" alt=\"Open In Colab\"/></a>"
      ]
    },
    {
      "cell_type": "code",
      "source": [
        "\"\"\"\n",
        "Chan’s girlfriend's birthday is near, so he wants to surprise her by making a special cake for her. Chan knows that his girlfriend likes cherries on the cake, so he puts cherries on the top of the cake, but he was not satisfied. Therefore, he decided to replace some of the cherries to make a beautiful pattern. However, Chan has a lot of other work to do so he decided to ask for your help. The cherries are of two colors red and green. Now Chan wants the cherries to be placed in such a way that each cherry of one color must be adjacent to only cherries of the other color, two cherries are adjacent if they share a side. Now Chan has asked for your help in making that pattern on the cake.You can replace any cherry of given color with the other color. But there is a cost for each replacement: if you replace a red cherry with a green one, the cost is 5 units and if you replace a green cherry with a red one, the cost is 3 units. Help your friend Chan by making the cake special with minimum cost.If there is no need of any changes print '0'(ie. minimum cost is zero)\n",
        "Input Size : N<=1000, M<=1000\n",
        "Example:\n",
        "INPUT\n",
        "2 3\n",
        "RRG\n",
        "GGR\n",
        "OUTPUT\n",
        "8\n",
        "\n",
        "\"\"\""
      ],
      "metadata": {
        "id": "2BU2ZZm9zaAG"
      },
      "execution_count": null,
      "outputs": []
    },
    {
      "cell_type": "code",
      "source": [
        "\n",
        "t=1\n",
        "\n",
        "\n",
        "def pen(c):\n",
        "\tif c=='R':\n",
        "\t\treturn 5\n",
        "\treturn 3\n",
        "\n",
        "for q in range(t):\n",
        "\tn,m=map(int,input().split())\n",
        "\ts=[]\n",
        "\tfor i in range(n):\n",
        "\t\ts.append('')\n",
        "\t\ts[i]=input()\n",
        "\ta,b=[],[]\n",
        "\tfor i in range(n):\n",
        "\t\ta.append([])\n",
        "\t\tb.append([])\n",
        "\t\tfor j in range(m):\n",
        "\t\t\tif (i+j)%2==0:\n",
        "\t\t\t\ta[i].append('R')\n",
        "\t\t\t\tb[i].append('G')\n",
        "\t\t\telse:\n",
        "\t\t\t\ta[i].append('G')\n",
        "\t\t\t\tb[i].append('R')\n",
        "\tpena,penb=0,0\n",
        "\tfor i in range(n):\n",
        "\t\tfor j in range(m):\n",
        "\t\t\tif s[i][j]==a[i][j]:\n",
        "\t\t\t\tpenb+=pen(s[i][j])\n",
        "\t\t\telse:\n",
        "\t\t\t\tpena+=pen(s[i][j])\n",
        "\tprint(min(pena,penb))"
      ],
      "metadata": {
        "colab": {
          "base_uri": "https://localhost:8080/"
        },
        "id": "VlZWV-8HzaI8",
        "outputId": "7626e96d-aeb1-4367-dbc0-80ea9c8198be"
      },
      "execution_count": 50,
      "outputs": [
        {
          "output_type": "stream",
          "name": "stdout",
          "text": [
            "2 3\n",
            "RRG\n",
            "GGR\n",
            "8\n"
          ]
        }
      ]
    }
  ]
}