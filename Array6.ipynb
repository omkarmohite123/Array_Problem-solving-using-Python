{
  "nbformat": 4,
  "nbformat_minor": 0,
  "metadata": {
    "colab": {
      "provenance": [],
      "authorship_tag": "ABX9TyO95vr/RdxMcMGIGBu6sxS+",
      "include_colab_link": true
    },
    "kernelspec": {
      "name": "python3",
      "display_name": "Python 3"
    },
    "language_info": {
      "name": "python"
    }
  },
  "cells": [
    {
      "cell_type": "markdown",
      "metadata": {
        "id": "view-in-github",
        "colab_type": "text"
      },
      "source": [
        "<a href=\"https://colab.research.google.com/github/omkarmohite123/Array_Problem-solving-using-Python/blob/main/Array6.ipynb\" target=\"_parent\"><img src=\"https://colab.research.google.com/assets/colab-badge.svg\" alt=\"Open In Colab\"/></a>"
      ]
    },
    {
      "cell_type": "code",
      "source": [
        "\"\"\"\n",
        "Given 2 numbers N,Q and an array of N integers, followed by Q queries each consisting of L,R. Find the GCD of numbers in [L,R]. If there is only one number in the given range, then print the number itself.\n",
        "Input Size : 1<=N<=1000\n",
        "Example:\n",
        "INPUT\n",
        "5 2\n",
        "1 2 3 4 5\n",
        "1 2\n",
        "4 5\n",
        "OUTPUT\n",
        "1\n",
        "1\n",
        "\n",
        "\n",
        "\"\"\""
      ],
      "metadata": {
        "id": "V16sBMk9z1R2"
      },
      "execution_count": null,
      "outputs": []
    },
    {
      "cell_type": "code",
      "source": [
        "\n",
        "def gcd(a,b):\n",
        "\tif (b == 0):\n",
        "\t\treturn a\n",
        "\treturn gcd(b, a%b)\n",
        "f,g=list(map(int,input().split()))\n",
        "d=list(map(int,input().split()))\n",
        "m=[]\n",
        "for i in range(g):\n",
        "  a,b=list(map(int,input().split()))\n",
        "  k=gcd(a,b)\n",
        "  m.append(k)\n",
        "\n",
        "l=[]\n",
        "for i in d:\n",
        "  for j in m:\n",
        "    if i==j:\n",
        "      l.append(j)\n",
        "if len(m)==1:\n",
        "  print(m[0]+1)\n",
        "else:\n",
        " for i in l:\n",
        "   print(i)"
      ],
      "metadata": {
        "colab": {
          "base_uri": "https://localhost:8080/"
        },
        "id": "2OQo7mh6z1cF",
        "outputId": "31f18b65-b5cd-494e-ad04-c88e3a660b87"
      },
      "execution_count": 51,
      "outputs": [
        {
          "output_type": "stream",
          "name": "stdout",
          "text": [
            "5 2\n",
            "1 2 3 4 5\n",
            "1 2\n",
            "4 5\n",
            "1\n",
            "1\n"
          ]
        }
      ]
    }
  ]
}