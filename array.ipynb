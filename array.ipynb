{
  "nbformat": 4,
  "nbformat_minor": 0,
  "metadata": {
    "colab": {
      "provenance": [],
      "authorship_tag": "ABX9TyMFik0npknPVvx57QauRt/m",
      "include_colab_link": true
    },
    "kernelspec": {
      "name": "python3",
      "display_name": "Python 3"
    },
    "language_info": {
      "name": "python"
    }
  },
  "cells": [
    {
      "cell_type": "markdown",
      "metadata": {
        "id": "view-in-github",
        "colab_type": "text"
      },
      "source": [
        "<a href=\"https://colab.research.google.com/github/omkarmohite123/Array_Problem-solving-using-Python/blob/main/array.ipynb\" target=\"_parent\"><img src=\"https://colab.research.google.com/assets/colab-badge.svg\" alt=\"Open In Colab\"/></a>"
      ]
    },
    {
      "cell_type": "code",
      "source": [
        "\"\"\"\n",
        "Given an array of N elements, find the elements A[i], A[j] and A[k] in the array such that A[i]+A[j]=A[k] and i < j < k . Print number of possibilities.\n",
        "Input Size : 1 <= N <= 1000\n",
        "Sample Testcases :\n",
        "INPUT\n",
        "5\n",
        "1 2 3 4 5\n",
        "OUTPUT\n",
        "4\n",
        "\"\"\""
      ],
      "metadata": {
        "id": "L6_U-zlLxTbI"
      },
      "execution_count": null,
      "outputs": []
    },
    {
      "cell_type": "code",
      "source": [
        "a=int(input())\n",
        "b=list(map(int,input().split()))\n",
        "m=0\n",
        "for i in range(len(b)):\n",
        "  for j in range(len(b)):\n",
        "    for k in range(len(b)):\n",
        "      if b[i]+b[j]==b[k] and i<j and j<k:\n",
        "         m+=1\n",
        "print(m)"
      ],
      "metadata": {
        "colab": {
          "base_uri": "https://localhost:8080/"
        },
        "id": "NvSWhRn36mEM",
        "outputId": "569c4385-308f-4b9f-c735-88a9479d9f4c"
      },
      "execution_count": 26,
      "outputs": [
        {
          "output_type": "stream",
          "name": "stdout",
          "text": [
            "5\n",
            "1 2 3 4 5\n",
            "4\n"
          ]
        }
      ]
    }
  ]
}