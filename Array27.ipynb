{
  "nbformat": 4,
  "nbformat_minor": 0,
  "metadata": {
    "colab": {
      "provenance": [],
      "authorship_tag": "ABX9TyO7hOf4SfMVAwM8INhcNsQo",
      "include_colab_link": true
    },
    "kernelspec": {
      "name": "python3",
      "display_name": "Python 3"
    },
    "language_info": {
      "name": "python"
    }
  },
  "cells": [
    {
      "cell_type": "markdown",
      "metadata": {
        "id": "view-in-github",
        "colab_type": "text"
      },
      "source": [
        "<a href=\"https://colab.research.google.com/github/omkarmohite123/Array_Problem-solving-using-Python/blob/main/Array27.ipynb\" target=\"_parent\"><img src=\"https://colab.research.google.com/assets/colab-badge.svg\" alt=\"Open In Colab\"/></a>"
      ]
    },
    {
      "cell_type": "code",
      "source": [
        "\"\"\"\n",
        "Given a number N, find the sum of prime numbers that end with 3 from 2 to N.\n",
        "Input Size : N <= 100000\n",
        "Sample Testcase :\n",
        "INPUT\n",
        "5\n",
        "OUTPUT\n",
        "3\n",
        "\"\"\""
      ],
      "metadata": {
        "id": "M8U3DvPGUm9g"
      },
      "execution_count": null,
      "outputs": []
    },
    {
      "cell_type": "code",
      "source": [
        "\n",
        "k=[]\n",
        "for i in range(2,101):\n",
        "  c=0\n",
        "  for j in range(2,(i//2)+1):\n",
        "    if i%j==0:\n",
        "      c+=1\n",
        "  if i!=1 and c==0:\n",
        "     k.append(i)\n",
        "s=[]\n",
        "for i in k:\n",
        "  if str(i)[-1]==\"3\":\n",
        "      s.append(i)\n",
        "m=int(input())\n",
        "n=[]\n",
        "for i in s:\n",
        "  if int(i)<=m:\n",
        "    n.append(i)\n",
        "print(*n)"
      ],
      "metadata": {
        "colab": {
          "base_uri": "https://localhost:8080/"
        },
        "outputId": "1a7bab8c-56d5-4d00-8281-54171c5eb8cb",
        "id": "d9HgEwR0U93q"
      },
      "execution_count": 27,
      "outputs": [
        {
          "output_type": "stream",
          "name": "stdout",
          "text": [
            "5\n",
            "3\n"
          ]
        }
      ]
    }
  ]
}