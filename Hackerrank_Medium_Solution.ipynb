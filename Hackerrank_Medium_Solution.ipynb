{
  "nbformat": 4,
  "nbformat_minor": 0,
  "metadata": {
    "colab": {
      "provenance": [],
      "authorship_tag": "ABX9TyMCW71vYvXwm+r38Bh4EWl4",
      "include_colab_link": true
    },
    "kernelspec": {
      "name": "python3",
      "display_name": "Python 3"
    },
    "language_info": {
      "name": "python"
    }
  },
  "cells": [
    {
      "cell_type": "markdown",
      "metadata": {
        "id": "view-in-github",
        "colab_type": "text"
      },
      "source": [
        "<a href=\"https://colab.research.google.com/github/omkarmohite123/Array_Problem-solving-using-Python/blob/main/Hackerrank_Medium_Solution.ipynb\" target=\"_parent\"><img src=\"https://colab.research.google.com/assets/colab-badge.svg\" alt=\"Open In Colab\"/></a>"
      ]
    },
    {
      "cell_type": "code",
      "execution_count": null,
      "metadata": {
        "id": "5BlR4zXLSl2U"
      },
      "outputs": [],
      "source": [
        "\"\"\"\n",
        "You are given a function . You are also given  lists. The  list consists of  elements.\n",
        "\n",
        "You have to pick one element from each list so that the value from the equation below is maximized:\n",
        "\n",
        "%\n",
        "\n",
        " denotes the element picked from the  list . Find the maximized value  obtained.\n",
        "\n",
        " denotes the modulo operator.\n",
        "\n",
        "Note that you need to take exactly one element from each list, not necessarily the largest element. You add the squares of the chosen elements and perform the modulo operation. The maximum value that you can obtain, will be the answer to the problem.\n",
        "\n",
        "Input Format\n",
        "\n",
        "The first line contains  space separated integers  and .\n",
        "The next  lines each contains an integer , denoting the number of elements in the  list, followed by  space separated integers denoting the elements in the list.\n",
        "\n",
        "Constraints\n",
        "\n",
        "\n",
        "\n",
        "\n",
        "\n",
        "Output Format\n",
        "\n",
        "Output a single integer denoting the value .\n",
        "\n",
        "Sample Input\n",
        "\n",
        "3 1000\n",
        "2 5 4\n",
        "3 7 8 9 \n",
        "5 5 7 8 9 10 \n",
        "Sample Output\n",
        "\n",
        "206\n",
        "Explanation\n",
        "\n",
        "Picking  from the st list,  from the nd list and  from the rd list gives the maximum  value equal to % = .\n",
        "\n",
        "\n",
        "\"\"\""
      ]
    },
    {
      "cell_type": "code",
      "source": [
        "from itertools import product\n",
        "m,n=map(int,input().split())\n",
        "z=[]\n",
        "for i in range(m):\n",
        "  r=map(int,input().split()[1:])\n",
        "  z.append(map(lambda x:x**2%n,r))\n",
        "\n",
        "print(max(map(lambda x: sum(x)%n,product(*z))))"
      ],
      "metadata": {
        "colab": {
          "base_uri": "https://localhost:8080/"
        },
        "id": "vnGDqroVbXdg",
        "outputId": "178cb017-aa1c-49ad-b1f8-72cd7c707683"
      },
      "execution_count": null,
      "outputs": [
        {
          "output_type": "stream",
          "name": "stdout",
          "text": [
            "3 1000\n",
            "2 5 8\n",
            "3 5 7 9\n",
            "5 6 7 8 9\n",
            "226\n"
          ]
        }
      ]
    },
    {
      "cell_type": "code",
      "source": [
        "\"\"\"\n",
        "The .intersection() operator returns the intersection of a set and the set of elements in an iterable.\n",
        "Sometimes, the & operator is used in place of the .intersection() operator, but it only operates on the set of elements in set.\n",
        "The set is immutable to the .intersection() operation (or & operation).\n",
        "\n",
        ">>> s = set(\"Hacker\")\n",
        ">>> print s.intersection(\"Rank\")\n",
        "set(['a', 'k'])\n",
        "\n",
        ">>> print s.intersection(set(['R', 'a', 'n', 'k']))\n",
        "set(['a', 'k'])\n",
        "\n",
        ">>> print s.intersection(['R', 'a', 'n', 'k'])\n",
        "set(['a', 'k'])\n",
        "\n",
        ">>> print s.intersection(enumerate(['R', 'a', 'n', 'k']))\n",
        "set([])\n",
        "\n",
        ">>> print s.intersection({\"Rank\":1})\n",
        "set([])\n",
        "\n",
        ">>> s & set(\"Rank\")\n",
        "set(['a', 'k'])\n",
        "Task\n",
        "The students of District College have subscriptions to English and French newspapers. Some students have subscribed only to English, some have subscribed only to French, and some have subscribed to both newspapers.\n",
        "\n",
        "You are given two sets of student roll numbers. One set has subscribed to the English newspaper, one set has subscribed to the French newspaper. Your task is to find the total number of students who have subscribed to both newspapers.\n",
        "\n",
        "Input Format\n",
        "\n",
        "The first line contains , the number of students who have subscribed to the English newspaper.\n",
        "The second line contains  space separated roll numbers of those students.\n",
        "The third line contains , the number of students who have subscribed to the French newspaper.\n",
        "The fourth line contains  space separated roll numbers of those students.\n",
        "\n",
        "Constraints\n",
        "\n",
        "\n",
        "Output Format\n",
        "\n",
        "Output the total number of students who have subscriptions to both English and French newspapers.\n",
        "\n",
        "Sample Input\n",
        "\n",
        "9\n",
        "1 2 3 4 5 6 7 8 9\n",
        "9\n",
        "10 1 2 3 11 21 55 6 8\n",
        "Sample Output\n",
        "\n",
        "5\n",
        "Explanation\n",
        "\n",
        "The roll numbers of students who have both subscriptions:\n",
        " and .\n",
        "Hence, the total is  students.\n",
        "\n",
        "\"\"\""
      ],
      "metadata": {
        "id": "LrJECZFuc7ni"
      },
      "execution_count": null,
      "outputs": []
    },
    {
      "cell_type": "code",
      "source": [
        "\n",
        "a=int(input())\n",
        "b1=list(map(int,input().split()))\n",
        "b=set(b1)\n",
        "c=int(input())\n",
        "d1=list(map(int,input().split()))\n",
        "d=set(d1)\n",
        "print(len(b.intersection(d)))\n"
      ],
      "metadata": {
        "colab": {
          "base_uri": "https://localhost:8080/"
        },
        "id": "90hiNynRc7uJ",
        "outputId": "46dde4ef-3189-4154-df4e-0595904fe791"
      },
      "execution_count": null,
      "outputs": [
        {
          "output_type": "stream",
          "name": "stdout",
          "text": [
            "9\n",
            "1 2 3 4 5 6 7 8 9\n",
            "9\n",
            "10 1 2 3 11 21 55 6 8\n",
            "5\n"
          ]
        }
      ]
    },
    {
      "cell_type": "code",
      "source": [
        "\"\"\"\n",
        "The tool .difference() returns a set with all the elements from the set that are not in an iterable.\n",
        "Sometimes the - operator is used in place of the .difference() tool, but it only operates on the set of elements in set.\n",
        "Set is immutable to the .difference() operation (or the - operation).\n",
        "\n",
        ">>> s = set(\"Hacker\")\n",
        ">>> print s.difference(\"Rank\")\n",
        "set(['c', 'r', 'e', 'H'])\n",
        "\n",
        ">>> print s.difference(set(['R', 'a', 'n', 'k']))\n",
        "set(['c', 'r', 'e', 'H'])\n",
        "\n",
        ">>> print s.difference(['R', 'a', 'n', 'k'])\n",
        "set(['c', 'r', 'e', 'H'])\n",
        "\n",
        ">>> print s.difference(enumerate(['R', 'a', 'n', 'k']))\n",
        "set(['a', 'c', 'r', 'e', 'H', 'k'])\n",
        "\n",
        ">>> print s.difference({\"Rank\":1})\n",
        "set(['a', 'c', 'e', 'H', 'k', 'r'])\n",
        "\n",
        ">>> s - set(\"Rank\")\n",
        "set(['H', 'c', 'r', 'e'])\n",
        "Task\n",
        "Students of District College have a subscription to English and French newspapers. Some students have subscribed to only the English newspaper, some have subscribed to only the French newspaper, and some have subscribed to both newspapers.\n",
        "\n",
        "You are given two sets of student roll numbers. One set has subscribed to the English newspaper, and one set has subscribed to the French newspaper. Your task is to find the total number of students who have subscribed to only English newspapers.\n",
        "\n",
        "Input Format\n",
        "\n",
        "The first line contains the number of students who have subscribed to the English newspaper.\n",
        "The second line contains the space separated list of student roll numbers who have subscribed to the English newspaper.\n",
        "The third line contains the number of students who have subscribed to the French newspaper.\n",
        "The fourth line contains the space separated list of student roll numbers who have subscribed to the French newspaper.\n",
        "\n",
        "Constraints\n",
        "\n",
        "\n",
        "Output Format\n",
        "\n",
        "Output the total number of students who are subscribed to the English newspaper only.\n",
        "\n",
        "Sample Input\n",
        "\n",
        "9\n",
        "1 2 3 4 5 6 7 8 9\n",
        "9\n",
        "10 1 2 3 11 21 55 6 8\n",
        "Sample Output\n",
        "\n",
        "4\n",
        "Explanation\n",
        "\n",
        "The roll numbers of students who only have English newspaper subscriptions are:\n",
        " and .\n",
        "Hence, the total is  students.\n",
        "\n",
        "\"\"\""
      ],
      "metadata": {
        "id": "cRd1Q4m2ga3Y"
      },
      "execution_count": null,
      "outputs": []
    },
    {
      "cell_type": "code",
      "source": [
        "\n",
        "a=int(input())\n",
        "b1=list(map(int,input().split()))\n",
        "b=set(b1)\n",
        "c=int(input())\n",
        "d1=list(map(int,input().split()))\n",
        "d=set(d1)\n",
        "print(len(b.difference(d)))\n"
      ],
      "metadata": {
        "colab": {
          "base_uri": "https://localhost:8080/"
        },
        "outputId": "622e2495-eaa8-4a47-a383-c59ffad28e54",
        "id": "irtUaGXogimv"
      },
      "execution_count": null,
      "outputs": [
        {
          "output_type": "stream",
          "name": "stdout",
          "text": [
            "9\n",
            "1 2 3 4 5 6 7 8 9\n",
            "9\n",
            "10 1 2 3 11 21 55 6 8\n",
            "4\n"
          ]
        }
      ]
    },
    {
      "cell_type": "code",
      "source": [
        "\"\"\"\n",
        "The .symmetric_difference() operator returns a set with all the elements that are in the set and the iterable but not both.\n",
        "Sometimes, a ^ operator is used in place of the .symmetric_difference() tool, but it only operates on the set of elements in set.\n",
        "The set is immutable to the .symmetric_difference() operation (or ^ operation).\n",
        "\n",
        ">>> s = set(\"Hacker\")\n",
        ">>> print s.symmetric_difference(\"Rank\")\n",
        "set(['c', 'e', 'H', 'n', 'R', 'r'])\n",
        "\n",
        ">>> print s.symmetric_difference(set(['R', 'a', 'n', 'k']))\n",
        "set(['c', 'e', 'H', 'n', 'R', 'r'])\n",
        "\n",
        ">>> print s.symmetric_difference(['R', 'a', 'n', 'k'])\n",
        "set(['c', 'e', 'H', 'n', 'R', 'r'])\n",
        "\n",
        ">>> print s.symmetric_difference(enumerate(['R', 'a', 'n', 'k']))\n",
        "set(['a', 'c', 'e', 'H', (0, 'R'), 'r', (2, 'n'), 'k', (1, 'a'), (3, 'k')])\n",
        "\n",
        ">>> print s.symmetric_difference({\"Rank\":1})\n",
        "set(['a', 'c', 'e', 'H', 'k', 'Rank', 'r'])\n",
        "\n",
        ">>> s ^ set(\"Rank\")\n",
        "set(['c', 'e', 'H', 'n', 'R', 'r'])\n",
        "Task\n",
        "Students of District College have subscriptions to English and French newspapers. Some students have subscribed to English only, some have subscribed to French only, and some have subscribed to both newspapers.\n",
        "\n",
        "You are given two sets of student roll numbers. One set has subscribed to the English newspaper, and one set has subscribed to the French newspaper. Your task is to find the total number of students who have subscribed to either the English or the French newspaper but not both.\n",
        "\n",
        "Input Format\n",
        "\n",
        "The first line contains the number of students who have subscribed to the English newspaper.\n",
        "The second line contains the space separated list of student roll numbers who have subscribed to the English newspaper.\n",
        "The third line contains the number of students who have subscribed to the French newspaper.\n",
        "The fourth line contains the space separated list of student roll numbers who have subscribed to the French newspaper.\n",
        "\n",
        "Constraints\n",
        "\n",
        "\n",
        "Output Format\n",
        "\n",
        "Output total number of students who have subscriptions to the English or the French newspaper but not both.\n",
        "\n",
        "Sample Input\n",
        "\n",
        "9\n",
        "1 2 3 4 5 6 7 8 9\n",
        "9\n",
        "10 1 2 3 11 21 55 6 8\n",
        "Sample Output\n",
        "\n",
        "8\n",
        "Explanation\n",
        "\n",
        "The roll numbers of students who have subscriptions to English or French newspapers but not both are:\n",
        " and .\n",
        "Hence, the total is  students.\n",
        "\n",
        "Language\n",
        "Python 3\n",
        "\n",
        "More\n",
        "1\n",
        "# Enter your code here. Read input from STDIN. Print output to STDOUT\n",
        "\n",
        "\"\"\""
      ],
      "metadata": {
        "id": "aJjaCQk4g4QD"
      },
      "execution_count": null,
      "outputs": []
    },
    {
      "cell_type": "code",
      "source": [
        "\n",
        "a=int(input())\n",
        "b1=list(map(int,input().split()))\n",
        "b=set(b1)\n",
        "c=int(input())\n",
        "d1=list(map(int,input().split()))\n",
        "d=set(d1)\n",
        "print(len(b.symmetric_difference(d)))\n"
      ],
      "metadata": {
        "colab": {
          "base_uri": "https://localhost:8080/"
        },
        "outputId": "52aef328-77c0-4bca-b929-5e66085a190d",
        "id": "7SzQo9eQhLHH"
      },
      "execution_count": null,
      "outputs": [
        {
          "output_type": "stream",
          "name": "stdout",
          "text": [
            "9\n",
            "1 2 3 4 5 6 7 8 9\n",
            "9\n",
            "10 1 2 3 11 21 55 6 8\n",
            "8\n"
          ]
        }
      ]
    },
    {
      "cell_type": "code",
      "source": [
        "\"\"\"\n",
        "We have seen the applications of union, intersection, difference and symmetric difference operations, but these operations do not make any changes or mutations to the set.\n",
        "\n",
        "We can use the following operations to create mutations to a set:\n",
        "\n",
        ".update() or |=\n",
        "Update the set by adding elements from an iterable/another set.\n",
        "\n",
        ">>> H = set(\"Hacker\")\n",
        ">>> R = set(\"Rank\")\n",
        ">>> H.update(R)\n",
        ">>> print H\n",
        "set(['a', 'c', 'e', 'H', 'k', 'n', 'r', 'R'])\n",
        ".intersection_update() or &=\n",
        "Update the set by keeping only the elements found in it and an iterable/another set.\n",
        "\n",
        ">>> H = set(\"Hacker\")\n",
        ">>> R = set(\"Rank\")\n",
        ">>> H.intersection_update(R)\n",
        ">>> print H\n",
        "set(['a', 'k'])\n",
        ".difference_update() or -=\n",
        "Update the set by removing elements found in an iterable/another set.\n",
        "\n",
        ">>> H = set(\"Hacker\")\n",
        ">>> R = set(\"Rank\")\n",
        ">>> H.difference_update(R)\n",
        ">>> print H\n",
        "set(['c', 'e', 'H', 'r'])\n",
        ".symmetric_difference_update() or ^=\n",
        "Update the set by only keeping the elements found in either set, but not in both.\n",
        "\n",
        ">>> H = set(\"Hacker\")\n",
        ">>> R = set(\"Rank\")\n",
        ">>> H.symmetric_difference_update(R)\n",
        ">>> print H\n",
        "set(['c', 'e', 'H', 'n', 'r', 'R'])\n",
        "TASK\n",
        "You are given a set  and  number of other sets. These  number of sets have to perform some specific mutation operations on set .\n",
        "\n",
        "Your task is to execute those operations and print the sum of elements from set .\n",
        "\n",
        "Input Format\n",
        "\n",
        "The first line contains the number of elements in set .\n",
        "The second line contains the space separated list of elements in set .\n",
        "The third line contains integer , the number of other sets.\n",
        "The next  lines are divided into  parts containing two lines each.\n",
        "The first line of each part contains the space separated entries of the operation name and the length of the other set.\n",
        "The second line of each part contains space separated list of elements in the other set.\n",
        "\n",
        " len(set(A)) \n",
        " len(otherSets) \n",
        "\n",
        "Output Format\n",
        "\n",
        "Output the sum of elements in set .\n",
        "\n",
        "Sample Input\n",
        "\n",
        " 16\n",
        " 1 2 3 4 5 6 7 8 9 10 11 12 13 14 24 52\n",
        " 4\n",
        " intersection_update 10\n",
        " 2 3 5 6 8 9 1 4 7 11\n",
        " update 2\n",
        " 55 66\n",
        " symmetric_difference_update 5\n",
        " 22 7 35 62 58\n",
        " 7\n",
        " 11 22 35 55 58 62 66\n",
        "Sample Output\n",
        "\n",
        "38\n",
        "Explanation\n",
        "\n",
        "After the first operation, (intersection_update operation), we get:\n",
        "set \n",
        "\n",
        "After the second operation, (update operation), we get:\n",
        "set \n",
        "\n",
        "After the third operation, (symmetric_difference_update operation), we get:\n",
        "set \n",
        "\n",
        "After the fourth operation, ( difference_update operation), we get:\n",
        "set \n",
        "\n",
        "The sum of elements in set  after these operations is .\n",
        "\n",
        "\"\"\""
      ],
      "metadata": {
        "id": "MBrPCCyVhmuw"
      },
      "execution_count": null,
      "outputs": []
    },
    {
      "cell_type": "code",
      "source": [
        "\n",
        "a=int(input())\n",
        "b=set(list(map(int,input().split())))\n",
        "c=int(input())\n",
        "for i in range(c):\n",
        "  m=input().split()\n",
        "  x=set(list(map(int,input().split())))\n",
        "  if m[0]==\"intersection_update\":\n",
        "    b.intersection_update(x)\n",
        "  elif m[0]==\"update\":\n",
        "    b.update(x)\n",
        "  elif m[0]==\"symmetric_difference_update\":\n",
        "    b.symmetric_difference_update(x)\n",
        "  elif m[0]==\"difference_update\":\n",
        "    b.difference_update(x)\n",
        "  else:\n",
        "    print('Incorrect parameters')\n",
        "\n",
        "print(sum(b))\n",
        "\n",
        "\n",
        "  "
      ],
      "metadata": {
        "colab": {
          "base_uri": "https://localhost:8080/"
        },
        "id": "YDM9T5QyiGOy",
        "outputId": "c2eeee6a-dec6-4a76-8833-e20a0e5a4288"
      },
      "execution_count": null,
      "outputs": [
        {
          "output_type": "stream",
          "name": "stdout",
          "text": [
            "16\n",
            " 1 2 3 4 5 6 7 8 9 10 11 12 13 14 24 52\n",
            "4\n",
            " intersection_update 10\n",
            " 2 3 5 6 8 9 1 4 7 11\n",
            " update 2\n",
            " 55 66\n",
            " symmetric_difference_update 5\n",
            " 22 7 35 62 58\n",
            " difference_update 7\n",
            " 11 22 35 55 58 62 66\n",
            "14\n"
          ]
        }
      ]
    },
    {
      "cell_type": "code",
      "source": [
        "\"\"\"\n",
        "Mr. Anant Asankhya is the manager at the INFINITE hotel. The hotel has an infinite amount of rooms.\n",
        "\n",
        "One fine day, a finite number of tourists come to stay at the hotel.\n",
        "The tourists consist of:\n",
        "→ A Captain.\n",
        "→ An unknown group of families consisting of  members per group where  ≠ .\n",
        "\n",
        "The Captain was given a separate room, and the rest were given one room per group.\n",
        "\n",
        "Mr. Anant has an unordered list of randomly arranged room entries. The list consists of the room numbers for all of the tourists. The room numbers will appear  times per group except for the Captain's room.\n",
        "\n",
        "Mr. Anant needs you to help him find the Captain's room number.\n",
        "The total number of tourists or the total number of groups of families is not known to you.\n",
        "You only know the value of  and the room number list.\n",
        "\n",
        "Input Format\n",
        "\n",
        "The first line consists of an integer, , the size of each group.\n",
        "The second line contains the unordered elements of the room number list.\n",
        "\n",
        "\n",
        "Constraints\n",
        "\n",
        "\n",
        "Output Format\n",
        "\n",
        "Output the Captain's room number.\n",
        "\n",
        "Sample Input\n",
        "\n",
        "5\n",
        "1 2 3 6 5 4 4 2 5 3 6 1 6 5 3 2 4 1 2 5 1 4 3 6 8 4 3 1 5 6 2 \n",
        "Sample Output\n",
        "\n",
        "8\n",
        "Explanation\n",
        "\n",
        "The list of room numbers contains  elements. Since  is , there must be  groups of families. In the given list, all of the numbers repeat  times except for room number .\n",
        "Hence,  is the Captain's room number.\n",
        "\n",
        "Language\n",
        "Python 3\n",
        "\n",
        "\"\"\""
      ],
      "metadata": {
        "id": "dUDpARz7hm55"
      },
      "execution_count": null,
      "outputs": []
    },
    {
      "cell_type": "code",
      "source": [
        "a=int(input())\n",
        "b=list(map(int,input().split()))\n",
        "c={}\n",
        "for i in b:\n",
        "  if i in c:\n",
        "    c[i]+=1\n",
        "  else:\n",
        "    c[i]=1\n",
        "for i,j in c.items():\n",
        "  if j==1:\n",
        "    print(i)"
      ],
      "metadata": {
        "colab": {
          "base_uri": "https://localhost:8080/"
        },
        "id": "63q1jE7Qp8Du",
        "outputId": "fad85c9a-7331-4876-acac-07ed1d06c205"
      },
      "execution_count": null,
      "outputs": [
        {
          "output_type": "stream",
          "name": "stdout",
          "text": [
            "5\n",
            "1 2 3 6 5 4 4 2 5 3 6 1 6 5 3 2 4 1 2 5 1 4 3 6 8 4 3 1 5 6 2 \n",
            "8\n"
          ]
        }
      ]
    },
    {
      "cell_type": "code",
      "source": [
        "\"\"\"\n",
        "You are given two sets,  and .\n",
        "Your job is to find whether set  is a subset of set .\n",
        "\n",
        "If set  is subset of set , print True.\n",
        "If set  is not a subset of set , print False.\n",
        "\n",
        "Input Format\n",
        "\n",
        "The first line will contain the number of test cases, .\n",
        "The first line of each test case contains the number of elements in set .\n",
        "The second line of each test case contains the space separated elements of set .\n",
        "The third line of each test case contains the number of elements in set .\n",
        "The fourth line of each test case contains the space separated elements of set .\n",
        "\n",
        "Constraints\n",
        "\n",
        "Output Format\n",
        "\n",
        "Output True or False for each test case on separate lines.\n",
        "\n",
        "Sample Input\n",
        "\n",
        "3\n",
        "5\n",
        "1 2 3 5 6\n",
        "9\n",
        "9 8 5 6 3 2 1 4 7\n",
        "1\n",
        "2\n",
        "5\n",
        "3 6 5 4 1\n",
        "7\n",
        "1 2 3 5 6 8 9\n",
        "3\n",
        "9 8 2\n",
        "Sample Output\n",
        "\n",
        "True \n",
        "False\n",
        "False\n",
        "Explanation\n",
        "\n",
        "Test Case 01 Explanation\n",
        "\n",
        "Set  = {1 2 3 5 6}\n",
        "Set  = {9 8 5 6 3 2 1 4 7}\n",
        "All the elements of set  are elements of set .\n",
        "Hence, set  is a subset of set .\n",
        "\n",
        "Language\n",
        "Python 3\n",
        "\n",
        "More\n",
        "\n",
        "\"\"\""
      ],
      "metadata": {
        "id": "HJYGHtpgreKz"
      },
      "execution_count": null,
      "outputs": []
    },
    {
      "cell_type": "code",
      "source": [
        "def sub():\n",
        "  k=[]\n",
        "  b=int(input())\n",
        "  c=set(list(map(int,input().split())))\n",
        "  e=int(input())\n",
        "  f=set(list(map(int,input().split())))\n",
        "  return c.issubset(f)\n",
        "\n",
        "\n",
        "\n",
        "\n",
        "a=int(input())\n",
        "k=[]\n",
        "for i in range(a):\n",
        "  k.append(sub())\n",
        "for i in k:\n",
        "  print(i)\n"
      ],
      "metadata": {
        "colab": {
          "base_uri": "https://localhost:8080/"
        },
        "id": "d_r87vf3rrXK",
        "outputId": "e570d5fa-746f-4d7a-da55-255bbf8fd612"
      },
      "execution_count": null,
      "outputs": [
        {
          "output_type": "stream",
          "name": "stdout",
          "text": [
            "3\n",
            "5\n",
            "1 2 3 5 6\n",
            "9\n",
            "9 8 5 6 3 2 1 4 7\n",
            "1\n",
            "2\n",
            "5\n",
            "3 6 5 4 1\n",
            "7\n",
            "1 2 3 5 6 8 9\n",
            "3\n",
            "9 8 2\n",
            "True\n",
            "False\n",
            "False\n"
          ]
        }
      ]
    },
    {
      "cell_type": "code",
      "source": [
        "\"\"\"\n",
        "You are given a set  and  other sets.\n",
        "Your job is to find whether set  is a strict superset of each of the  sets.\n",
        "\n",
        "Print True, if  is a strict superset of each of the  sets. Otherwise, print False.\n",
        "\n",
        "A strict superset has at least one element that does not exist in its subset.\n",
        "\n",
        "Example\n",
        "Set is a strict superset of set.\n",
        "Set is not a strict superset of set.\n",
        "Set is not a strict superset of set.\n",
        "\n",
        "Input Format\n",
        "\n",
        "The first line contains the space separated elements of set .\n",
        "The second line contains integer , the number of other sets.\n",
        "The next  lines contains the space separated elements of the other sets.\n",
        "\n",
        "Constraints\n",
        "\n",
        "Output Format\n",
        "\n",
        "Print True if set  is a strict superset of all other  sets. Otherwise, print False.\n",
        "\n",
        "Sample Input 0\n",
        "\n",
        "1 2 3 4 5 6 7 8 9 10 11 12 23 45 84 78\n",
        "2\n",
        "1 2 3 4 5\n",
        "100 11 12\n",
        "Sample Output 0\n",
        "\n",
        "False\n",
        "Explanation 0\n",
        "\n",
        "Set  is the strict superset of the set but not of the set because  is not in set .\n",
        "Hence, the output is False.\n",
        "\n",
        "Language\n",
        "Python 3\n",
        "\n",
        "More\n",
        "1\n",
        "# Enter your code here. Read input from STDIN. Print output to STDOUT\n",
        "Line: 1 Col: 70\n",
        "\n",
        "Submit Code\n",
        "\n",
        "Run Code\n",
        "\n",
        "\n",
        "\"\"\""
      ],
      "metadata": {
        "id": "p1H03by5reOa"
      },
      "execution_count": null,
      "outputs": []
    },
    {
      "cell_type": "code",
      "source": [
        "c=set(list(map(int,input().split())))\n",
        "a=int(input())\n",
        "m=[]\n",
        "for i in range(a):\n",
        "  z=set(list(map(int,input().split())))\n",
        "  m.append(z.issubset(c))\n",
        "\n",
        "if False in m:\n",
        "  print(\"False\")\n",
        "else:\n",
        "  print(\"True\")\n",
        "\n"
      ],
      "metadata": {
        "colab": {
          "base_uri": "https://localhost:8080/"
        },
        "id": "aTovb91Gt0qy",
        "outputId": "3da2e555-d7f8-473c-b342-8ab6cec4c429"
      },
      "execution_count": null,
      "outputs": [
        {
          "output_type": "stream",
          "name": "stdout",
          "text": [
            "1 2 3 4 5 6 7 8 9 10 11 12 23 45 84 78\n",
            "2\n",
            "1 2 3 4 5\n",
            "100 11 12\n",
            "False\n"
          ]
        }
      ]
    },
    {
      "cell_type": "code",
      "source": [
        "\"\"\"\n",
        ">>> s = set('HackerRank')\n",
        ">>> s.add('H')\n",
        ">>> print s\n",
        "set(['a', 'c', 'e', 'H', 'k', 'n', 'r', 'R'])\n",
        ">>> print s.add('HackerRank')\n",
        "None\n",
        ">>> print s\n",
        "set(['a', 'c', 'e', 'HackerRank', 'H', 'k', 'n', 'r', 'R'])\n",
        "\n",
        "Task\n",
        "\n",
        "Apply your knowledge of the .add() operation to help your friend Rupal.\n",
        "\n",
        "Rupal has a huge collection of country stamps. She decided to count the total number of distinct country stamps in her collection. She asked for your help. You pick the stamps one by one from a stack of  country stamps.\n",
        "\n",
        "Find the total number of distinct country stamps.\n",
        "\n",
        "Input Format\n",
        "\n",
        "The first line contains an integer , the total number of country stamps.\n",
        "The next  lines contains the name of the country where the stamp is from.\n",
        "Constraints\n",
        "\n",
        "\n",
        "Output Format\n",
        "\n",
        "Output the total number of distinct country stamps on a single line.\n",
        "\n",
        "Sample Input\n",
        "\n",
        "7\n",
        "UK\n",
        "China\n",
        "USA\n",
        "France\n",
        "New Zealand\n",
        "UK\n",
        "France \n",
        "Sample Output\n",
        "\n",
        "5\n",
        "Explanation\n",
        "\n",
        "UK and France repeat twice. Hence, the total number of distinct country stamps is  (five).\n",
        "\n",
        "Language\n",
        "Python 3\n",
        "\n",
        "\"\"\""
      ],
      "metadata": {
        "id": "p-zyigScvO-b"
      },
      "execution_count": null,
      "outputs": []
    },
    {
      "cell_type": "code",
      "source": [
        "k=[]\n",
        "m=int(input())\n",
        "for i in range(m):\n",
        "  k.append(input())\n",
        "print(len(set(k)))"
      ],
      "metadata": {
        "colab": {
          "base_uri": "https://localhost:8080/"
        },
        "id": "RaHTx0elvPB_",
        "outputId": "aa6f2a95-ae68-4e7a-8859-e5a901def457"
      },
      "execution_count": null,
      "outputs": [
        {
          "output_type": "stream",
          "name": "stdout",
          "text": [
            "7\n",
            "UK\n",
            "China\n",
            "USA\n",
            "France\n",
            "New Zealand\n",
            "France\n",
            "UK\n",
            "5\n"
          ]
        }
      ]
    },
    {
      "cell_type": "code",
      "source": [],
      "metadata": {
        "id": "q1OjrX4KwKgX"
      },
      "execution_count": null,
      "outputs": []
    }
  ]
}