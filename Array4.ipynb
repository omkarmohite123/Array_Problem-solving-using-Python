{
  "nbformat": 4,
  "nbformat_minor": 0,
  "metadata": {
    "colab": {
      "provenance": [],
      "authorship_tag": "ABX9TyMYG0fv5u8yMfCCxxpDOm3p",
      "include_colab_link": true
    },
    "kernelspec": {
      "name": "python3",
      "display_name": "Python 3"
    },
    "language_info": {
      "name": "python"
    }
  },
  "cells": [
    {
      "cell_type": "markdown",
      "metadata": {
        "id": "view-in-github",
        "colab_type": "text"
      },
      "source": [
        "<a href=\"https://colab.research.google.com/github/omkarmohite123/Array_Problem-solving-using-Python/blob/main/Array4.ipynb\" target=\"_parent\"><img src=\"https://colab.research.google.com/assets/colab-badge.svg\" alt=\"Open In Colab\"/></a>"
      ]
    },
    {
      "cell_type": "code",
      "source": [
        "\"\"\"\n",
        "Anna and Brian order n items at a restaurant, but Anna declines to eat any of the kth item due to an allergy. When the check comes, they decide to split the cost of all the items they shared; however, Brian may have forgotten that they didn't split the kth item and accidentally charged Anna for it. You are given n,k the cost of each of the n items, and the total amount of money that Brian charged Anna for her portion of the bill. If the bill is fairly split, print 'Bon Appetit'; otherwise, print the amount of money that Brian must refund to Anna.\n",
        "Input Format\n",
        "The first line contains two space-separated integers denoting the respective values of n (the number of items ordered) and k (the 0-based index of the item that Anna did not eat). The second line contains n space-separated integers where each integer i denotes the cost c[i], of item i. The third line contains an integer ,b(charged), denoting the amount of money that Brian charged Anna for her share of the bill.\n",
        "Output Format\n",
        "If Brian did not overcharge Anna, print Bon Appetit on a new line; otherwise, print the difference (i.e.b(charged) - b(actual), ) that Brian must refund to Anna (it is guaranteed that this will always be an integer).\n",
        "Input Size : N<=1000000\n",
        "Example:\n",
        "INPUT\n",
        "4 1\n",
        "3 10 2 9\n",
        "12\n",
        "OUTPUT\n",
        "5\n",
        "\"\"\""
      ],
      "metadata": {
        "id": "ERGAvKTly7jZ"
      },
      "execution_count": null,
      "outputs": []
    },
    {
      "cell_type": "code",
      "source": [
        "first=input()\n",
        "second=input()\n",
        "third=input()\n",
        "\n",
        "A=first.split()\n",
        "n=int(A[0])\n",
        "k=int(A[1])\n",
        "\n",
        "if(k<n):\n",
        "    B=second.split()\n",
        "    \n",
        "    if len(B)==n:\n",
        "        total=0\n",
        "        for i in range(len(B)):\n",
        "            total=total+int(B[i])\n",
        "        price1=total-int(B[k])\n",
        "        price2=int(price1/2)\n",
        "\n",
        "        C=third.split()\n",
        "        if len(C)==1:\n",
        "            if(price2==int(C[0])):\n",
        "                print(\"Bon Appetit\")\n",
        "            else:\n",
        "                actual=int(C[0])-price2\n",
        "                print(actual)\n"
      ],
      "metadata": {
        "colab": {
          "base_uri": "https://localhost:8080/"
        },
        "id": "NE9b-NRRy7sp",
        "outputId": "58b4a596-b894-4a30-f981-c43f93d86088"
      },
      "execution_count": 49,
      "outputs": [
        {
          "output_type": "stream",
          "name": "stdout",
          "text": [
            "4 1\n",
            "3 10 2 9\n",
            "12\n",
            "5\n"
          ]
        }
      ]
    }
  ]
}