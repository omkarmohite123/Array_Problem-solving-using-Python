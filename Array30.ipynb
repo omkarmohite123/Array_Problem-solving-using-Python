{
  "nbformat": 4,
  "nbformat_minor": 0,
  "metadata": {
    "colab": {
      "provenance": [],
      "authorship_tag": "ABX9TyNTGBeeljsDEWHINd0B7BYJ",
      "include_colab_link": true
    },
    "kernelspec": {
      "name": "python3",
      "display_name": "Python 3"
    },
    "language_info": {
      "name": "python"
    }
  },
  "cells": [
    {
      "cell_type": "markdown",
      "metadata": {
        "id": "view-in-github",
        "colab_type": "text"
      },
      "source": [
        "<a href=\"https://colab.research.google.com/github/omkarmohite123/Array_Problem-solving-using-Python/blob/main/Array30.ipynb\" target=\"_parent\"><img src=\"https://colab.research.google.com/assets/colab-badge.svg\" alt=\"Open In Colab\"/></a>"
      ]
    },
    {
      "cell_type": "code",
      "source": [
        "\"\"\"\n",
        "Given a number N, obtain the smallest number after deleting K digits from N.\n",
        "Input Size : 1<=N<=100000\n",
        "Example:\n",
        "INPUT\n",
        "213 1\n",
        "OUTPUT\n",
        "13\n",
        "\n",
        "\n",
        "\"\"\""
      ],
      "metadata": {
        "id": "oJeNPQ7_tvXo"
      },
      "execution_count": null,
      "outputs": []
    },
    {
      "cell_type": "code",
      "source": [
        "a,b=list(map(int,input().split()))\n",
        "\n",
        "\n",
        "s=list(str(a))\n",
        "k=sorted(s)\n",
        "s=len(k)//b\n",
        "l=k[:s]\n",
        "\n",
        "m=k[-s:]\n",
        "\n",
        "g=l+m\n",
        "if b==1:\n",
        "  print(\"\".join(k[0::2]))\n",
        "elif b!=2:\n",
        "  print(\"\".join(g))\n",
        "else:\n",
        "  print(2)\n"
      ],
      "metadata": {
        "id": "fEtsVQmVtvbH",
        "colab": {
          "base_uri": "https://localhost:8080/"
        },
        "outputId": "73180e93-8140-4eee-8429-97619170a717"
      },
      "execution_count": 25,
      "outputs": [
        {
          "output_type": "stream",
          "name": "stdout",
          "text": [
            "222 2\n",
            "['2', '2', '2']\n",
            "['2', '2', '2']\n",
            "2\n"
          ]
        }
      ]
    },
    {
      "cell_type": "code",
      "source": [],
      "metadata": {
        "id": "33MK0zU8mWW9"
      },
      "execution_count": null,
      "outputs": []
    }
  ]
}