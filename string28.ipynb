{
  "nbformat": 4,
  "nbformat_minor": 0,
  "metadata": {
    "colab": {
      "provenance": [],
      "authorship_tag": "ABX9TyMxL1p6hl/gZzDPKIug2xkp",
      "include_colab_link": true
    },
    "kernelspec": {
      "name": "python3",
      "display_name": "Python 3"
    },
    "language_info": {
      "name": "python"
    }
  },
  "cells": [
    {
      "cell_type": "markdown",
      "metadata": {
        "id": "view-in-github",
        "colab_type": "text"
      },
      "source": [
        "<a href=\"https://colab.research.google.com/github/omkarmohite123/Array_Problem-solving-using-Python/blob/main/string28.ipynb\" target=\"_parent\"><img src=\"https://colab.research.google.com/assets/colab-badge.svg\" alt=\"Open In Colab\"/></a>"
      ]
    },
    {
      "cell_type": "code",
      "source": [
        "\"\"\"\n",
        "You are given with a queue. Your task is to reverse the queue elements and print it.\n",
        "\n",
        "Input Description:\n",
        "You are given a number ‘n’,denoting size of queue, Next line contains s space separated numbers\n",
        "\n",
        "Output Description:\n",
        "Print the reversed queue.\n",
        "\n",
        "Sample Input :\n",
        "6\n",
        "1 2 3 4 5 6\n",
        "Sample Output :\n",
        "6 5 4 3 2 1\n",
        "\n",
        "\"\"\""
      ],
      "metadata": {
        "id": "421dlmW0P2VH"
      },
      "execution_count": null,
      "outputs": []
    },
    {
      "cell_type": "code",
      "source": [
        "a=int(input())\n",
        "b=list(map(int,input().split()))\n",
        "c=b[::-1]\n",
        "print(*c)"
      ],
      "metadata": {
        "colab": {
          "base_uri": "https://localhost:8080/"
        },
        "id": "MSwenX-ZP2YB",
        "outputId": "79a9c0d6-3ecf-4575-ed6f-563b251166d3"
      },
      "execution_count": 1,
      "outputs": [
        {
          "output_type": "stream",
          "name": "stdout",
          "text": [
            "6\n",
            "1 2 3 4 5 6\n",
            "6 5 4 3 2 1\n"
          ]
        }
      ]
    }
  ]
}