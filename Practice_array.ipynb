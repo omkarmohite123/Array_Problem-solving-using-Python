{
  "nbformat": 4,
  "nbformat_minor": 0,
  "metadata": {
    "colab": {
      "provenance": [],
      "authorship_tag": "ABX9TyNJk0srpX40EU5p/UsfxyL4",
      "include_colab_link": true
    },
    "kernelspec": {
      "name": "python3",
      "display_name": "Python 3"
    },
    "language_info": {
      "name": "python"
    }
  },
  "cells": [
    {
      "cell_type": "markdown",
      "metadata": {
        "id": "view-in-github",
        "colab_type": "text"
      },
      "source": [
        "<a href=\"https://colab.research.google.com/github/omkarmohite123/Array_Problem-solving-using-Python/blob/main/Practice_array.ipynb\" target=\"_parent\"><img src=\"https://colab.research.google.com/assets/colab-badge.svg\" alt=\"Open In Colab\"/></a>"
      ]
    },
    {
      "cell_type": "code",
      "source": [
        "\"\"\"\n",
        "You have been given stock prices for next N days. Find out: max profit in buying and selling 1 share Condition: Share must be sold any day after buying date. Given a number N followed by N integers print the maximum profit.\n",
        "For example: Share price in thousands 5 1 4 6 7 8 4 3 7 9\n",
        "Max benefit 9 – 1 = 8 thousand\n",
        "Input Size : N <= 100000\n",
        "Sample Testcase :\n",
        "INPUT\n",
        "10\n",
        "5 1 4 6 7 8 4 3 7 9\n",
        "OUTPUT\n",
        "8\n",
        "\"\"\""
      ],
      "metadata": {
        "id": "lfjKptNJO6EH"
      },
      "execution_count": null,
      "outputs": []
    },
    {
      "cell_type": "code",
      "source": [
        "k=[]\n",
        "for i in range(10):\n",
        "  k.append(1)\n",
        "print(k)"
      ],
      "metadata": {
        "colab": {
          "base_uri": "https://localhost:8080/"
        },
        "id": "6JwtPUruRVTR",
        "outputId": "913e7a02-cfa8-48cb-8eb2-da365ef7c237"
      },
      "execution_count": null,
      "outputs": [
        {
          "output_type": "stream",
          "name": "stdout",
          "text": [
            "[1, 1, 1, 1, 1, 1, 1, 1, 1, 1]\n"
          ]
        }
      ]
    },
    {
      "cell_type": "code",
      "source": [],
      "metadata": {
        "id": "NjSBY0ReRnsl"
      },
      "execution_count": null,
      "outputs": []
    },
    {
      "cell_type": "code",
      "source": [
        "m=[]\n",
        "for i in range(10):\n",
        "  m.append(0)\n",
        "print(m)"
      ],
      "metadata": {
        "colab": {
          "base_uri": "https://localhost:8080/"
        },
        "outputId": "7b5ac918-9a54-498e-abe1-3d1ed52be2d8",
        "id": "dv2izfITRoOG"
      },
      "execution_count": null,
      "outputs": [
        {
          "output_type": "stream",
          "name": "stdout",
          "text": [
            "[0, 0, 0, 0, 0, 0, 0, 0, 0, 0]\n"
          ]
        }
      ]
    },
    {
      "cell_type": "code",
      "source": [
        "v=[1]*10\n",
        "print(v)"
      ],
      "metadata": {
        "colab": {
          "base_uri": "https://localhost:8080/"
        },
        "id": "sge7J0HSRyAQ",
        "outputId": "284299a7-5925-4baf-f9a3-8e8dadd6cb22"
      },
      "execution_count": null,
      "outputs": [
        {
          "output_type": "stream",
          "name": "stdout",
          "text": [
            "[1, 1, 1, 1, 1, 1, 1, 1, 1, 1]\n"
          ]
        }
      ]
    },
    {
      "cell_type": "code",
      "source": [
        "\n",
        "for i in m:\n",
        "  k.append(i)\n",
        "print(sorted(k))\n",
        "\n"
      ],
      "metadata": {
        "colab": {
          "base_uri": "https://localhost:8080/"
        },
        "id": "NR1i55yVSJI_",
        "outputId": "0675064b-d6ef-4c35-8518-cd294692989e"
      },
      "execution_count": null,
      "outputs": [
        {
          "output_type": "stream",
          "name": "stdout",
          "text": [
            "[0, 0, 0, 0, 0, 0, 0, 0, 0, 0, 1, 1, 1, 1, 1, 1, 1, 1, 1, 1]\n"
          ]
        }
      ]
    },
    {
      "cell_type": "code",
      "source": [
        "k.extend(m)\n",
        "print(k)"
      ],
      "metadata": {
        "colab": {
          "base_uri": "https://localhost:8080/"
        },
        "id": "PdpMwTX2Syx_",
        "outputId": "4e2ec728-836a-4e9b-8d85-201c4e136c7e"
      },
      "execution_count": null,
      "outputs": [
        {
          "output_type": "stream",
          "name": "stdout",
          "text": [
            "[1, 1, 1, 1, 1, 1, 1, 1, 1, 1, 0, 0, 0, 0, 0, 0, 0, 0, 0, 0, 0, 0, 0, 0, 0, 0, 0, 0, 0, 0]\n"
          ]
        }
      ]
    },
    {
      "cell_type": "code",
      "source": [],
      "metadata": {
        "colab": {
          "base_uri": "https://localhost:8080/",
          "height": 166
        },
        "id": "TLADSyAXS4EH",
        "outputId": "1a0cf314-89e1-4263-cccc-14f83321e964"
      },
      "execution_count": null,
      "outputs": [
        {
          "output_type": "error",
          "ename": "NameError",
          "evalue": "ignored",
          "traceback": [
            "\u001b[0;31m---------------------------------------------------------------------------\u001b[0m",
            "\u001b[0;31mNameError\u001b[0m                                 Traceback (most recent call last)",
            "\u001b[0;32m<ipython-input-11-f30b7005afbc>\u001b[0m in \u001b[0;36m<module>\u001b[0;34m\u001b[0m\n\u001b[0;32m----> 1\u001b[0;31m \u001b[0mrandom\u001b[0m\u001b[0;34m(\u001b[0m\u001b[0mk\u001b[0m\u001b[0;34m)\u001b[0m\u001b[0;34m\u001b[0m\u001b[0;34m\u001b[0m\u001b[0m\n\u001b[0m",
            "\u001b[0;31mNameError\u001b[0m: name 'random' is not defined"
          ]
        }
      ]
    },
    {
      "cell_type": "code",
      "source": [],
      "metadata": {
        "id": "FGOoAkr3S6wE"
      },
      "execution_count": null,
      "outputs": []
    },
    {
      "cell_type": "code",
      "source": [],
      "metadata": {
        "id": "vF9xHHDRSdig"
      },
      "execution_count": null,
      "outputs": []
    },
    {
      "cell_type": "code",
      "source": [
        "d=[]\n",
        "for i in ran"
      ],
      "metadata": {
        "id": "Ic1BwMWpRVWn"
      },
      "execution_count": null,
      "outputs": []
    },
    {
      "cell_type": "code",
      "source": [
        "a=int(input())\n",
        "b=list(map(int,input().split()))\n",
        "c=[]\n",
        "for i in b:\n",
        "  if i%2==0:\n",
        "    c.append(i)\n",
        "\n",
        "print(c)\n"
      ],
      "metadata": {
        "colab": {
          "base_uri": "https://localhost:8080/"
        },
        "id": "KweGN4NtO6Hb",
        "outputId": "9ff44f62-8196-46d9-db91-42baf91e2f58"
      },
      "execution_count": null,
      "outputs": [
        {
          "output_type": "stream",
          "name": "stdout",
          "text": [
            "5\n",
            "4 5 7 8 9 10\n",
            "[4, 8, 10]\n"
          ]
        }
      ]
    },
    {
      "cell_type": "code",
      "source": [
        "a=[5,6,8,9,2,3] \n",
        "def sunk(a,m):\n",
        "   res=[]\n",
        "   for i in range(len(a)):\n",
        "     res.append(a[i])\n",
        "     while(sum(res)>m):\n",
        "         res.pop(0)\n",
        "     if sum(res)==m:\n",
        "         return res\n",
        "   return []\n",
        "#a=[5,6,8,9,2,3]\n",
        "m=16\n",
        "print(sunk(a,m))"
      ],
      "metadata": {
        "id": "arj504Fwxf1l",
        "colab": {
          "base_uri": "https://localhost:8080/"
        },
        "outputId": "8eba3192-ac08-4b73-c945-ffe465153408"
      },
      "execution_count": null,
      "outputs": [
        {
          "output_type": "stream",
          "name": "stdout",
          "text": [
            "[]\n"
          ]
        }
      ]
    },
    {
      "cell_type": "markdown",
      "source": [],
      "metadata": {
        "id": "p0l_t9Ft1JwI"
      }
    },
    {
      "cell_type": "code",
      "source": [
        "\n",
        "\n",
        "a=\"Omkar\"\n",
        "m=len(a)\n",
        "for i in range(m):\n",
        "   for j in range(i+1,m+1):\n",
        "        print(i,j)\n",
        "        print(a[i:j])"
      ],
      "metadata": {
        "id": "-JVJSrs61Mdi",
        "colab": {
          "base_uri": "https://localhost:8080/"
        },
        "outputId": "85efe0ba-bcad-469c-c416-cfae63f9acf6"
      },
      "execution_count": null,
      "outputs": [
        {
          "output_type": "stream",
          "name": "stdout",
          "text": [
            "0 1\n",
            "O\n",
            "0 2\n",
            "Om\n",
            "0 3\n",
            "Omk\n",
            "0 4\n",
            "Omka\n",
            "0 5\n",
            "Omkar\n",
            "1 2\n",
            "m\n",
            "1 3\n",
            "mk\n",
            "1 4\n",
            "mka\n",
            "1 5\n",
            "mkar\n",
            "2 3\n",
            "k\n",
            "2 4\n",
            "ka\n",
            "2 5\n",
            "kar\n",
            "3 4\n",
            "a\n",
            "3 5\n",
            "ar\n",
            "4 5\n",
            "r\n"
          ]
        }
      ]
    },
    {
      "cell_type": "code",
      "source": [
        "a={}\n",
        "c=\"ababsdfacsbddacbssasdfcvb\"\n",
        "m=list(c)\n",
        "for i in m:\n",
        "  if i in a:\n",
        "     a[i]+=1\n",
        "  else:\n",
        "      a[i]=1\n",
        "\n",
        "print(a)"
      ],
      "metadata": {
        "colab": {
          "base_uri": "https://localhost:8080/"
        },
        "id": "Wiq1R_I-RXcU",
        "outputId": "134e6a91-a0db-4304-b058-a352a4d2688e"
      },
      "execution_count": null,
      "outputs": [
        {
          "output_type": "stream",
          "name": "stdout",
          "text": [
            "{'a': 5, 'b': 5, 's': 5, 'd': 4, 'f': 2, 'c': 3, 'v': 1}\n"
          ]
        }
      ]
    },
    {
      "cell_type": "code",
      "source": [
        " sorta={k:v for k,v in sorted(a.items(),key=lambda v:v[1])}"
      ],
      "metadata": {
        "id": "9C4Oxk2aSaf4"
      },
      "execution_count": null,
      "outputs": []
    },
    {
      "cell_type": "code",
      "source": [
        "print(sorta)"
      ],
      "metadata": {
        "colab": {
          "base_uri": "https://localhost:8080/"
        },
        "id": "oHmnMzvHTqMK",
        "outputId": "24e0c7a9-d062-42e7-a122-2c56d54408a9"
      },
      "execution_count": null,
      "outputs": [
        {
          "output_type": "stream",
          "name": "stdout",
          "text": [
            "{'v': 1, 'f': 2, 'c': 3, 'd': 4, 'a': 5, 'b': 5, 's': 5}\n"
          ]
        }
      ]
    },
    {
      "cell_type": "code",
      "source": [
        " sorta={k:v for k,v in sorted(a.items(),key=lambda v:v[0])}"
      ],
      "metadata": {
        "id": "QbeIZEt3T04J"
      },
      "execution_count": null,
      "outputs": []
    },
    {
      "cell_type": "code",
      "source": [
        "print(sorta)"
      ],
      "metadata": {
        "colab": {
          "base_uri": "https://localhost:8080/"
        },
        "id": "Vx1qkdhGT1Um",
        "outputId": "9a25ba14-02e1-4060-c4d9-515fc737990d"
      },
      "execution_count": null,
      "outputs": [
        {
          "output_type": "stream",
          "name": "stdout",
          "text": [
            "{'a': 5, 'b': 5, 'c': 3, 'd': 4, 'f': 2, 's': 5, 'v': 1}\n"
          ]
        }
      ]
    },
    {
      "cell_type": "code",
      "source": [],
      "metadata": {
        "id": "HlCxxen7WrxX"
      },
      "execution_count": null,
      "outputs": []
    },
    {
      "cell_type": "code",
      "source": [
        "d={k:v for k,v in sorted(a.items(),key=lambda v: v[1])}"
      ],
      "metadata": {
        "id": "vtKk-0vgUBPB"
      },
      "execution_count": null,
      "outputs": []
    },
    {
      "cell_type": "code",
      "source": [
        "print(d)"
      ],
      "metadata": {
        "colab": {
          "base_uri": "https://localhost:8080/"
        },
        "id": "07kaZyqCUe8H",
        "outputId": "926a2bc3-1821-4654-fda3-8ea412f5b61d"
      },
      "execution_count": null,
      "outputs": [
        {
          "output_type": "stream",
          "name": "stdout",
          "text": [
            "{'v': 1, 'f': 2, 'c': 3, 'd': 4, 'a': 5, 'b': 5, 's': 5}\n"
          ]
        }
      ]
    },
    {
      "cell_type": "code",
      "source": [],
      "metadata": {
        "id": "vi-DQpUYUrPU"
      },
      "execution_count": null,
      "outputs": []
    },
    {
      "cell_type": "code",
      "source": [
        "e"
      ],
      "metadata": {
        "id": "sbk6WPV0U5us"
      },
      "execution_count": null,
      "outputs": []
    },
    {
      "cell_type": "code",
      "source": [],
      "metadata": {
        "id": "sHqOB_csU6D4"
      },
      "execution_count": null,
      "outputs": []
    }
  ]
}