{
  "nbformat": 4,
  "nbformat_minor": 0,
  "metadata": {
    "colab": {
      "provenance": [],
      "authorship_tag": "ABX9TyNCIN0lPWmwjWM+yx1OmU5n",
      "include_colab_link": true
    },
    "kernelspec": {
      "name": "python3",
      "display_name": "Python 3"
    },
    "language_info": {
      "name": "python"
    }
  },
  "cells": [
    {
      "cell_type": "markdown",
      "metadata": {
        "id": "view-in-github",
        "colab_type": "text"
      },
      "source": [
        "<a href=\"https://colab.research.google.com/github/omkarmohite123/Array_Problem-solving-using-Python/blob/main/array14.ipynb\" target=\"_parent\"><img src=\"https://colab.research.google.com/assets/colab-badge.svg\" alt=\"Open In Colab\"/></a>"
      ]
    },
    {
      "cell_type": "code",
      "execution_count": null,
      "metadata": {
        "id": "Yjhx4iWevFvz"
      },
      "outputs": [],
      "source": [
        "\"\"\"\n",
        "Given a string S consisting of a sentence, the task is to reverse every word of the sentence except the first and last character of the words.\n",
        "Sample Testcase :\n",
        "INPUT\n",
        "guvi coding platform\n",
        "OUTPUT\n",
        "gvui cnidog proftalm.\n",
        "\n",
        "\n",
        "\"\"\""
      ]
    },
    {
      "cell_type": "code",
      "source": [
        "\n",
        "a=input().split()\n",
        "z=[]\n",
        "for i in a:\n",
        " if len(i)>1:\n",
        "  k=[]\n",
        "  k.append(i[0])\n",
        "  k.append(i[1:-1][::-1])\n",
        "  k.append(i[-1])\n",
        "  z.append(\"\".join(k))\n",
        " else:\n",
        "   z.append(i)\n",
        "if len(a[1])>2: \n",
        "   print(*z)\n",
        "else:\n",
        "  print(*a)"
      ],
      "metadata": {
        "colab": {
          "base_uri": "https://localhost:8080/"
        },
        "id": "3ZOfNAgLvURm",
        "outputId": "a9abb0d0-1172-4637-e65d-e5dfc4a16af8"
      },
      "execution_count": 1,
      "outputs": [
        {
          "output_type": "stream",
          "name": "stdout",
          "text": [
            "guvi coding platform\n",
            "gvui cnidog proftalm\n"
          ]
        }
      ]
    }
  ]
}