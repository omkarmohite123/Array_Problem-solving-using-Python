{
  "nbformat": 4,
  "nbformat_minor": 0,
  "metadata": {
    "colab": {
      "provenance": [],
      "authorship_tag": "ABX9TyP4XTaV+jAaWQy7nRn9Y7mW",
      "include_colab_link": true
    },
    "kernelspec": {
      "name": "python3",
      "display_name": "Python 3"
    },
    "language_info": {
      "name": "python"
    }
  },
  "cells": [
    {
      "cell_type": "markdown",
      "metadata": {
        "id": "view-in-github",
        "colab_type": "text"
      },
      "source": [
        "<a href=\"https://colab.research.google.com/github/omkarmohite123/Array_Problem-solving-using-Python/blob/main/Arrayy31.ipynb\" target=\"_parent\"><img src=\"https://colab.research.google.com/assets/colab-badge.svg\" alt=\"Open In Colab\"/></a>"
      ]
    },
    {
      "cell_type": "code",
      "source": [
        "\"\"\"\n",
        "You are given with arrays containing some non negative integers.Your task is to make the largest number out of it.\n",
        "\n",
        "Input Description:\n",
        "First line contains the size of array ’n’. Second line contains the n space separated integers.\n",
        "\n",
        "Output Description:\n",
        "Print the largest element that can be form out of the array\n",
        "\n",
        "Sample Input :\n",
        "6\n",
        "12 19 546 60\n",
        "Sample Output :\n",
        "605461912\n",
        "\"\"\""
      ],
      "metadata": {
        "id": "33MK0zU8mWW9"
      },
      "execution_count": null,
      "outputs": []
    },
    {
      "cell_type": "code",
      "source": [
        "def largestNumber(array):\n",
        "\t\n",
        "\tif len(array)==1:\n",
        "\t\treturn str(array[0])\n",
        "\n",
        "\tfor i in range(len(array)):\n",
        "\t\tarray[i]=str(array[i])\n",
        "\n",
        "\tfor i in range(len(array)):\n",
        "\t\tfor j in range(1+i,len(array)):\n",
        "\t\t\tif array[j]+array[i]>array[i]+array[j]:\n",
        "\t\t\t\tarray[i],array[j]=array[j],array[i]\n",
        "\n",
        "\tresult=''.join(array)\n",
        "\tif(result=='0'*len(result)):\n",
        "\t\treturn '0'\n",
        "\telse:\n",
        "\t\treturn result\n",
        "\t\t\n",
        "\t\t\n",
        "\n",
        "n=int(input())\n",
        "a = list(map(int,input().split()))\n",
        "print(largestNumber(a))\n"
      ],
      "metadata": {
        "colab": {
          "base_uri": "https://localhost:8080/"
        },
        "id": "5cki3FpAkly8",
        "outputId": "840672ad-b292-4e2e-a465-aacd3eacff92"
      },
      "execution_count": null,
      "outputs": [
        {
          "output_type": "stream",
          "name": "stdout",
          "text": [
            "6\n",
            "12 19 546 60\n",
            "605461912\n"
          ]
        }
      ]
    }
  ]
}