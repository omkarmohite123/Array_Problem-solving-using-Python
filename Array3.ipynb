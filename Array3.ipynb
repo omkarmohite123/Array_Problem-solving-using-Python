{
  "nbformat": 4,
  "nbformat_minor": 0,
  "metadata": {
    "colab": {
      "provenance": [],
      "authorship_tag": "ABX9TyOISox58V5Rs6t0Cn/V5EHZ",
      "include_colab_link": true
    },
    "kernelspec": {
      "name": "python3",
      "display_name": "Python 3"
    },
    "language_info": {
      "name": "python"
    }
  },
  "cells": [
    {
      "cell_type": "markdown",
      "metadata": {
        "id": "view-in-github",
        "colab_type": "text"
      },
      "source": [
        "<a href=\"https://colab.research.google.com/github/omkarmohite123/Array_Problem-solving-using-Python/blob/main/Array3.ipynb\" target=\"_parent\"><img src=\"https://colab.research.google.com/assets/colab-badge.svg\" alt=\"Open In Colab\"/></a>"
      ]
    },
    {
      "cell_type": "code",
      "source": [
        "\"\"\"\n",
        "Given 2 numbers N,K followed by an array of N integers perform the following operation:\n",
        "1)Split the array into exactly k non-empty subsegments.\n",
        "2)Compute the minimum integer on each subsegment.\n",
        "3)Take the maximum integer over the k obtained minimums.\n",
        "What is the maximum possible integer you can get if u split optimally?\n",
        "Input Size : 1<=K<=N<=100000\n",
        "Example:\n",
        "INPUT\n",
        "5 2\n",
        "1 2 3 4 5\n",
        "OUTPUT\n",
        "5\n",
        "\n",
        "\n",
        "\"\"\""
      ],
      "metadata": {
        "id": "6cnePmwhyjlP"
      },
      "execution_count": null,
      "outputs": []
    },
    {
      "cell_type": "code",
      "source": [
        "\n",
        "\n",
        "def maxOfSegmentMins(a,n,k):\n",
        "\tif k ==1:\n",
        "\t\treturn min(a)\n",
        "\tif k>=2:\n",
        "\t\treturn min(a[0],a[n-1])\n",
        "\treturn min(a)\n",
        "\n",
        "if __name__=='__main__':\n",
        "\n",
        "  n,k=list(map(int,input().split()))\n",
        "a = list(map(int,input().split()))\n",
        "print(maxOfSegmentMins(a,n,k))"
      ],
      "metadata": {
        "colab": {
          "base_uri": "https://localhost:8080/"
        },
        "id": "qGFVY88eyjtr",
        "outputId": "fdc60c5e-8594-41c2-df6e-6de243c88847"
      },
      "execution_count": 48,
      "outputs": [
        {
          "output_type": "stream",
          "name": "stdout",
          "text": [
            "5 2\n",
            "1 2 3 4 5\n",
            "1\n"
          ]
        }
      ]
    }
  ]
}