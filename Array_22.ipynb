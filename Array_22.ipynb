{
  "nbformat": 4,
  "nbformat_minor": 0,
  "metadata": {
    "colab": {
      "provenance": [],
      "authorship_tag": "ABX9TyO+gmlNlHuM2XImsk1vyffk",
      "include_colab_link": true
    },
    "kernelspec": {
      "name": "python3",
      "display_name": "Python 3"
    },
    "language_info": {
      "name": "python"
    }
  },
  "cells": [
    {
      "cell_type": "markdown",
      "metadata": {
        "id": "view-in-github",
        "colab_type": "text"
      },
      "source": [
        "<a href=\"https://colab.research.google.com/github/omkarmohite123/Array_Problem-solving-using-Python/blob/main/Array_22.ipynb\" target=\"_parent\"><img src=\"https://colab.research.google.com/assets/colab-badge.svg\" alt=\"Open In Colab\"/></a>"
      ]
    },
    {
      "cell_type": "code",
      "source": [
        "\"\"\"\n",
        "Loki wants to steal the tesseract but in order to do so, he has to rearrange the elements in an array in a specific manner which is mentioned in a clue. The clue says ‘cursed are the odd and sorted are the even’. Loki manages to decode the clue which translates to “sort the even positioned elements of an array, starting from the element at index 0, in ascending order”. Manipulate the array so as to help Loki steal the tesseract.\n",
        " \n",
        "\n",
        "Input Description:\n",
        "Size of the array followed by the elements of the array\n",
        "\n",
        "Output Description:\n",
        "Even index array elements sorted in ascending order\n",
        "\n",
        "Sample Input :\n",
        "5\n",
        "3 9 1 44 6\n",
        "Sample Output :\n",
        "1 9 3 44 6\n",
        "\"\"\""
      ],
      "metadata": {
        "id": "o3IUdBVW6DTm"
      },
      "execution_count": null,
      "outputs": []
    },
    {
      "cell_type": "code",
      "source": [
        "\n",
        "a=int(input())\n",
        "b=list(map(int,input().split()))\n",
        "even=[]\n",
        "odd=[]\n",
        "c=[]\n",
        "for i in range(len(b)):\n",
        "  if i%2==0 or i==0:\n",
        "      even.append(b[i])\n",
        "  elif i!=0 and i%2!=0:\n",
        "       odd.append(b[i])\n",
        "even.sort()\n",
        "for i in range(len(even)):\n",
        "  c.append(even[i])\n",
        "  if i < len(odd):\n",
        "       c.append(odd[i])\n",
        "print(*c)"
      ],
      "metadata": {
        "colab": {
          "base_uri": "https://localhost:8080/"
        },
        "id": "s-zq_sZy6DXZ",
        "outputId": "c11e9fae-233a-4d87-81a3-644ec1ee6c31"
      },
      "execution_count": 2,
      "outputs": [
        {
          "output_type": "stream",
          "name": "stdout",
          "text": [
            "5\n",
            "3 9 1 44 6\n",
            "1 9 3 44 6\n"
          ]
        }
      ]
    }
  ]
}