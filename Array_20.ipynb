{
  "nbformat": 4,
  "nbformat_minor": 0,
  "metadata": {
    "colab": {
      "provenance": [],
      "authorship_tag": "ABX9TyPdChPnIqgQoxOznVyVG+On",
      "include_colab_link": true
    },
    "kernelspec": {
      "name": "python3",
      "display_name": "Python 3"
    },
    "language_info": {
      "name": "python"
    }
  },
  "cells": [
    {
      "cell_type": "markdown",
      "metadata": {
        "id": "view-in-github",
        "colab_type": "text"
      },
      "source": [
        "<a href=\"https://colab.research.google.com/github/omkarmohite123/Array_Problem-solving-using-Python/blob/main/Array_20.ipynb\" target=\"_parent\"><img src=\"https://colab.research.google.com/assets/colab-badge.svg\" alt=\"Open In Colab\"/></a>"
      ]
    },
    {
      "cell_type": "code",
      "source": [
        "\"\"\"\n",
        "Given a number N and an array of N elements, a selection algorithm is implemented on this array where numbers at even position would be chosen, the algorithm is again and again implemented on the newly chosen array until only 1 element is remaining. Print the original position(index) of this element in the initial array.\n",
        "Input Size : 1 <= N <= 100000\n",
        "Sample Testcases :\n",
        "INPUT\n",
        "6\n",
        "1 2 3 4 5 6\n",
        "OUTPUT\n",
        "3\n",
        "\"\"\""
      ],
      "metadata": {
        "id": "QFrYJmbRqdiK"
      },
      "execution_count": null,
      "outputs": []
    },
    {
      "cell_type": "code",
      "source": [
        "def odd(b):\n",
        "    c=[]\n",
        "    m=[]\n",
        "    while len(b)!=1:\n",
        "     for i in range(len(b)):\n",
        "      if i%2!=0 and i!=0:\n",
        "        c.append(b[i])\n",
        "     b=c\n",
        "     c=[]\n",
        "    return b\n",
        "\n",
        "\n",
        "a=int(input())\n",
        "b=list(map(int,input().split()))\n",
        "k=odd(b)\n",
        "for i in range(len(b)):\n",
        "  if b[i] in k:\n",
        "    print(i)\n"
      ],
      "metadata": {
        "colab": {
          "base_uri": "https://localhost:8080/"
        },
        "id": "gBZzx6DZqdmC",
        "outputId": "5c2da136-f994-4f79-9cb2-e18ca3c8f686"
      },
      "execution_count": 9,
      "outputs": [
        {
          "output_type": "stream",
          "name": "stdout",
          "text": [
            "6\n",
            "1 2 3 4 5 6\n",
            "3\n"
          ]
        }
      ]
    }
  ]
}