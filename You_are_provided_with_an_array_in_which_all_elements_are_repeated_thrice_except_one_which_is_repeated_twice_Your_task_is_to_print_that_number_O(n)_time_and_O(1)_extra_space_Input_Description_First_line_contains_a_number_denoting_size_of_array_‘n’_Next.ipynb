{
  "nbformat": 4,
  "nbformat_minor": 0,
  "metadata": {
    "colab": {
      "provenance": [],
      "authorship_tag": "ABX9TyM0PYDG/5aXmjwjsw6UcsNx",
      "include_colab_link": true
    },
    "kernelspec": {
      "name": "python3",
      "display_name": "Python 3"
    },
    "language_info": {
      "name": "python"
    }
  },
  "cells": [
    {
      "cell_type": "markdown",
      "metadata": {
        "id": "view-in-github",
        "colab_type": "text"
      },
      "source": [
        "<a href=\"https://colab.research.google.com/github/omkarmohite123/Array_Problem-solving-using-Python/blob/main/You_are_provided_with_an_array_in_which_all_elements_are_repeated_thrice_except_one_which_is_repeated_twice_Your_task_is_to_print_that_number_O(n)_time_and_O(1)_extra_space_Input_Description_First_line_contains_a_number_denoting_size_of_array_%E2%80%98n%E2%80%99_Next.ipynb\" target=\"_parent\"><img src=\"https://colab.research.google.com/assets/colab-badge.svg\" alt=\"Open In Colab\"/></a>"
      ]
    },
    {
      "cell_type": "code",
      "source": [
        "#13\n",
        "a=input()\n",
        "b=list(map(int,input().split()))\n",
        "c=[]\n",
        "for i in b:\n",
        "  if b.count(i)==2:\n",
        "    if i not in c:\n",
        "      c.append(i)\n",
        "if len(c)>=1:\n",
        "  print(*c)"
      ],
      "metadata": {
        "colab": {
          "base_uri": "https://localhost:8080/"
        },
        "id": "PrjLnHqDCvml",
        "outputId": "ffcff6ee-964f-47b9-95e7-1fc714a71c71"
      },
      "execution_count": 1,
      "outputs": [
        {
          "output_type": "stream",
          "name": "stdout",
          "text": [
            "5\n",
            "13 12 13 12 13\n",
            "12\n"
          ]
        }
      ]
    }
  ]
}