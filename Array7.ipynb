{
  "nbformat": 4,
  "nbformat_minor": 0,
  "metadata": {
    "colab": {
      "provenance": [],
      "authorship_tag": "ABX9TyNBKldAq1+GcnkieH3d9Yxd",
      "include_colab_link": true
    },
    "kernelspec": {
      "name": "python3",
      "display_name": "Python 3"
    },
    "language_info": {
      "name": "python"
    }
  },
  "cells": [
    {
      "cell_type": "markdown",
      "metadata": {
        "id": "view-in-github",
        "colab_type": "text"
      },
      "source": [
        "<a href=\"https://colab.research.google.com/github/omkarmohite123/Array_Problem-solving-using-Python/blob/main/Array7.ipynb\" target=\"_parent\"><img src=\"https://colab.research.google.com/assets/colab-badge.svg\" alt=\"Open In Colab\"/></a>"
      ]
    },
    {
      "cell_type": "code",
      "source": [
        "\"\"\"\n",
        "Recently Kohli bought a very interesting book. He knows that it will take t seconds to read the book. Kohli wants to finish reading as fast as he can.But he has some work to do in each of n next days. The number of seconds that Kohli has to spend working during i-th day is ai. If some free time remains, he can spend it on reading. Help Kohli to determine the minimum number of day when He finishes reading. It is guaranteed that the answer doesn't exceed n. Remember that there are 86400 seconds in a day.\n",
        "Input Size : N<=100T<=1000000\n",
        "example\n",
        "INPUT\n",
        "2 2\n",
        "86400 86398\n",
        "OUTPUT\n",
        "1\n",
        "\"\"\""
      ],
      "metadata": {
        "id": "EwHofTlV0RrR"
      },
      "execution_count": null,
      "outputs": []
    },
    {
      "cell_type": "code",
      "source": [
        "\n",
        "a,b=map(int,input().split())\n",
        "d=list(map(int,input().split()))\n",
        "kohli=1\n",
        "for i in d:\n",
        "  g=86400-i\n",
        "  b-=g\n",
        "  if b<=0 or g==0:\n",
        "    print(kohli)\n",
        "    break\n",
        "  kohli+=1"
      ],
      "metadata": {
        "colab": {
          "base_uri": "https://localhost:8080/"
        },
        "id": "hp5xqhHQ0d7U",
        "outputId": "e30acb80-7b64-4e18-d39d-943403700b00"
      },
      "execution_count": 54,
      "outputs": [
        {
          "output_type": "stream",
          "name": "stdout",
          "text": [
            "2 2\n",
            "86400 86398\n",
            "1\n"
          ]
        }
      ]
    }
  ]
}