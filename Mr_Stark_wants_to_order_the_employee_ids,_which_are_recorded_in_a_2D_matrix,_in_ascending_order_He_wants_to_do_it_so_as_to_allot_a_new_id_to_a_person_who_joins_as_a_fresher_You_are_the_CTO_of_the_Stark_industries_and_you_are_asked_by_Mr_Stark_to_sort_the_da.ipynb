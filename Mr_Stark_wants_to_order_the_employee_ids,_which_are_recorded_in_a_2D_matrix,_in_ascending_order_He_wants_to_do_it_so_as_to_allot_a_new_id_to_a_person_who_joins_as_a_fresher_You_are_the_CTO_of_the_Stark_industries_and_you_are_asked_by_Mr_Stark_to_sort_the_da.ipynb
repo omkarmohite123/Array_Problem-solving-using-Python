{
  "nbformat": 4,
  "nbformat_minor": 0,
  "metadata": {
    "colab": {
      "provenance": [],
      "authorship_tag": "ABX9TyOgyt/dxSmHjJEsWCuzrueG",
      "include_colab_link": true
    },
    "kernelspec": {
      "name": "python3",
      "display_name": "Python 3"
    },
    "language_info": {
      "name": "python"
    }
  },
  "cells": [
    {
      "cell_type": "markdown",
      "metadata": {
        "id": "view-in-github",
        "colab_type": "text"
      },
      "source": [
        "<a href=\"https://colab.research.google.com/github/omkarmohite123/Array_Problem-solving-using-Python/blob/main/Mr_Stark_wants_to_order_the_employee_ids%2C_which_are_recorded_in_a_2D_matrix%2C_in_ascending_order_He_wants_to_do_it_so_as_to_allot_a_new_id_to_a_person_who_joins_as_a_fresher_You_are_the_CTO_of_the_Stark_industries_and_you_are_asked_by_Mr_Stark_to_sort_the_da.ipynb\" target=\"_parent\"><img src=\"https://colab.research.google.com/assets/colab-badge.svg\" alt=\"Open In Colab\"/></a>"
      ]
    },
    {
      "cell_type": "code",
      "source": [
        "#17\n",
        "m,n=map(int,input().split())\n",
        "s=[]\n",
        "k=0\n",
        "for i in range(m):\n",
        "  s.append((input().split()))\n",
        "  k=k+i\n",
        "d=[]\n",
        "for i in range(len(s)):\n",
        "  for j in s[i]:\n",
        "    d.append(j)\n",
        "k=sorted(d)\n",
        "l=0\n",
        "res=[]\n",
        "for i in range(0,m):\n",
        "  sub=[]\n",
        "  for j in range(0,n):\n",
        "    sub.append(k[l])\n",
        "    l+=1\n",
        "  res.append(sub)\n",
        "for i in range(len(res)):\n",
        "  print(*res[i])"
      ],
      "metadata": {
        "colab": {
          "base_uri": "https://localhost:8080/"
        },
        "id": "rEyQ6r0GDxez",
        "outputId": "019f072e-e012-44bd-c3b4-f39658cac666"
      },
      "execution_count": 4,
      "outputs": [
        {
          "output_type": "stream",
          "name": "stdout",
          "text": [
            "3 3\n",
            "87 21 34\n",
            "89 32 78\n",
            "12 23 45\n",
            "12 21 23\n",
            "32 34 45\n",
            "78 87 89\n"
          ]
        }
      ]
    }
  ]
}