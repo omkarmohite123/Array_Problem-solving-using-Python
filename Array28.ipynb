{
  "nbformat": 4,
  "nbformat_minor": 0,
  "metadata": {
    "colab": {
      "provenance": [],
      "authorship_tag": "ABX9TyOKZLluvc8vlDggIkrlh9TI",
      "include_colab_link": true
    },
    "kernelspec": {
      "name": "python3",
      "display_name": "Python 3"
    },
    "language_info": {
      "name": "python"
    }
  },
  "cells": [
    {
      "cell_type": "markdown",
      "metadata": {
        "id": "view-in-github",
        "colab_type": "text"
      },
      "source": [
        "<a href=\"https://colab.research.google.com/github/omkarmohite123/Array_Problem-solving-using-Python/blob/main/Array28.ipynb\" target=\"_parent\"><img src=\"https://colab.research.google.com/assets/colab-badge.svg\" alt=\"Open In Colab\"/></a>"
      ]
    },
    {
      "cell_type": "code",
      "source": [
        "\"\"\"\n",
        "Given a string containing a mix of upper and lowercase characters, sort the letters in ascending order such that the positions of upper and lowercase letters do not change. (eg) If the string is guVIONLineCoDIng, then the output must be  egCDIILginNnOVou\n",
        " \n",
        "\n",
        "Input Description:\n",
        "A string\n",
        "\n",
        "Output Description:\n",
        "Letters of the string sorted such that positions of upper and lower characters do not change.\n",
        "\n",
        "Sample Input :\n",
        "GuVi\n",
        "Sample Output :\n",
        "GiVu\n",
        "\n",
        "\"\"\""
      ],
      "metadata": {
        "id": "X3Az_XfddGEP"
      },
      "execution_count": null,
      "outputs": []
    },
    {
      "cell_type": "code",
      "source": [
        "\n",
        "def rev(s,n):\n",
        "  v1=[]\n",
        "  v2=[]\n",
        "  for i in range(n):\n",
        "    if s[i].islower()==True:\n",
        "      v1.append(s[i])\n",
        "    if s[i].isupper()==True:\n",
        "      v2.append(s[i])\n",
        "  v1=sorted(v1)\n",
        "  v2=sorted(v2)\n",
        "\n",
        "  i=0\n",
        "  j=0\n",
        "  for k in range(n):\n",
        "    if m[k].islower()==True:\n",
        "       m[k] = v1[i]\n",
        "       i+=1\n",
        "    elif m[k].isupper()==True:\n",
        "       m[k] = v2[j]\n",
        "       j+=1\n",
        "  return \"\".join(m)\n",
        " \n",
        "\n",
        "\n",
        "s=input()\n",
        "m=list(s)\n",
        "n=len(m)\n",
        "print(rev(s,n))"
      ],
      "metadata": {
        "colab": {
          "base_uri": "https://localhost:8080/"
        },
        "id": "FStcwTy0dGKv",
        "outputId": "d0d557c7-f27d-42e0-d5cb-37bbb2806525"
      },
      "execution_count": 45,
      "outputs": [
        {
          "output_type": "stream",
          "name": "stdout",
          "text": [
            "GuVi\n",
            "['G', 'u', 'V', 'i']\n",
            "GiVu\n"
          ]
        }
      ]
    }
  ]
}