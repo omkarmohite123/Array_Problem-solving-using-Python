{
  "nbformat": 4,
  "nbformat_minor": 0,
  "metadata": {
    "colab": {
      "provenance": [],
      "authorship_tag": "ABX9TyMooU3Gp/+n07chLG4jGQtJ",
      "include_colab_link": true
    },
    "kernelspec": {
      "name": "python3",
      "display_name": "Python 3"
    },
    "language_info": {
      "name": "python"
    }
  },
  "cells": [
    {
      "cell_type": "markdown",
      "metadata": {
        "id": "view-in-github",
        "colab_type": "text"
      },
      "source": [
        "<a href=\"https://colab.research.google.com/github/omkarmohite123/Array_Problem-solving-using-Python/blob/main/Given_a_string_S%2C_print_it_after_changing_the_middle_element_to_(if_the_length_of_the_string_is_even%2C_change_the_2_middle_elements_to_)_Sample_Testcase_INPUT_hello_OUTPUT_he_lo.ipynb\" target=\"_parent\"><img src=\"https://colab.research.google.com/assets/colab-badge.svg\" alt=\"Open In Colab\"/></a>"
      ]
    },
    {
      "cell_type": "code",
      "source": [
        "#23\n",
        "s=input()\n",
        "d=len(s)//2\n",
        "if len(s)%2==1:\n",
        "  print(s[0:d]+\"*\"+s[d+1:])\n",
        "else:\n",
        "  print(s[0:d-1]+\"**\"+s[d+1:])"
      ],
      "metadata": {
        "colab": {
          "base_uri": "https://localhost:8080/"
        },
        "id": "viJZQW2bDOHP",
        "outputId": "389e04f2-e130-45cc-e77b-b2838c71530b"
      },
      "execution_count": 2,
      "outputs": [
        {
          "output_type": "stream",
          "name": "stdout",
          "text": [
            "hello\n",
            "he*lo\n"
          ]
        }
      ]
    }
  ]
}