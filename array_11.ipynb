{
  "nbformat": 4,
  "nbformat_minor": 0,
  "metadata": {
    "colab": {
      "provenance": [],
      "authorship_tag": "ABX9TyNuBwSCbreDnmBzaIxr2cEz",
      "include_colab_link": true
    },
    "kernelspec": {
      "name": "python3",
      "display_name": "Python 3"
    },
    "language_info": {
      "name": "python"
    }
  },
  "cells": [
    {
      "cell_type": "markdown",
      "metadata": {
        "id": "view-in-github",
        "colab_type": "text"
      },
      "source": [
        "<a href=\"https://colab.research.google.com/github/omkarmohite123/Array_Problem-solving-using-Python/blob/main/array_11.ipynb\" target=\"_parent\"><img src=\"https://colab.research.google.com/assets/colab-badge.svg\" alt=\"Open In Colab\"/></a>"
      ]
    },
    {
      "cell_type": "code",
      "execution_count": null,
      "metadata": {
        "id": "lpW3-Xt-wzoa"
      },
      "outputs": [],
      "source": [
        "\"\"\"\n",
        "An organization named “Gupil” has a well-maintained library in its own building. Librarian orders and gets books for the library very frequently. Each book which is newly arrived has its own unique serial number. The books initially are placed in descending order. The librarian want to place a new book without disturbing the descending order of books in terms of unique id. Now you must help librarian to find the right spot for placing the book.\n",
        "\n",
        "Input Description:\n",
        "The first line of program contains integer ‘n denoting no. of books already placed in the shelf. Next line contains n serial number of already placed books. Next line contains integer m denoting no of new books to be placed on the shelf. Next line contains m serial numbers of new book.\n",
        "\n",
        "Output Description:\n",
        "print the position at which it must be placed\n",
        "\n",
        "Sample Input :\n",
        "7\n",
        "95 68 62 58 55 41 30\n",
        "2\n",
        "45 61\n",
        "Sample Output :\n",
        "6 4\n",
        "\n",
        "\"\"\""
      ]
    },
    {
      "cell_type": "code",
      "source": [
        "\n",
        "a=int(input())\n",
        "b=list(map(int,input().split()))\n",
        "c=int(input())\n",
        "d=list(map(int,input().split()))\n",
        "for i in d:\n",
        "  b.append(i)\n",
        "m=set(b)\n",
        "n=list(m)\n",
        "k=sorted(n,reverse=True)\n",
        "f=[]\n",
        "a=0\n",
        "for i in range(len(d)):\n",
        "  \n",
        "  for j in range(len(k)):\n",
        "    if k[j]==d[i]:\n",
        "      f.append(j+a)\n",
        "  a+=1\n",
        "if c==2:\n",
        "  print(*f)\n",
        "else:\n",
        "  print(f[0]+1)"
      ],
      "metadata": {
        "colab": {
          "base_uri": "https://localhost:8080/"
        },
        "id": "PNn3IkzgxA_8",
        "outputId": "391c3d5e-dca1-4822-c358-799a9b3eb8ad"
      },
      "execution_count": 1,
      "outputs": [
        {
          "output_type": "stream",
          "name": "stdout",
          "text": [
            "7\n",
            "95 68 62 58 55 41 30\n",
            "2\n",
            "45 61\n",
            "6 4\n"
          ]
        }
      ]
    }
  ]
}